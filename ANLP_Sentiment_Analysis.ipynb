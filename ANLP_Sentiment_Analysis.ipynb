{
 "cells": [
  {
   "cell_type": "markdown",
   "metadata": {
    "id": "Q1fgatIQGRDj"
   },
   "source": [
    "#Analyzing Public Perception of COVID Vaccines\n",
    "\n",
    "AT1 Part B : NLP for Data Analysis Markdown Report with Python Code\n",
    "\n",
    "\n",
    "---\n",
    "## Intorduction\n",
    "\n",
    "In 2019, the whole world changed when the COVID-19 pandemic started that affected the lives of millions of people worldwide. Despite several efforts to control the spread of the virus, it continued to wreak havoc, highlighting the pressing need to discover a cure. The desperate need for the vaccine sparked a sense of urgency in governments, research institutions, and pharmaceutical companies to find the cure.\n",
    "\n",
    "However, despite the pressing need for the vaccine, people remained skeptical, and vaccine hesitancy remains a concern. \n",
    "\n",
    "The aim of this text Analysis study is to analyze the public's perception of COVID-19 Vaccines.\n",
    "\n",
    "## Research Question\n",
    "Are people's perception towards COVID-19 vaccines positive, negative or neutral.\n",
    "\n",
    "## Data\n",
    "Two different datasets are going to be used for this project:\n",
    "\n",
    "* COVID-19 Vaccine Intent Expressions dataset\n",
    "\n",
    "  Dataset containig a list of 181 common questions as well as expressions written by annotators expressing said questions in their words\n",
    "\n",
    "* IBM_Debater_(R)_trust_data\n",
    "\n",
    "    Dataset containing user side inputs ragrding the vaccine annnotated for trust. It consists of a text column with the user side input and a label column with the trust label index as follows\n",
    "\n",
    "    > 0 - Low Institutional Trust\n",
    "\n",
    "    > 1- Low Agent Trust\n",
    "\n",
    "    > 2 -  Neutral\n",
    "\n",
    "    > 3 - High Trust\n",
    "\n",
    "## Hypothesis\n",
    "\n",
    "Vaccine hesitancy is still a dominating problem in today's world with people still not trusting the efficacy and necessity of the vaccine\n"
   ]
  },
  {
   "cell_type": "markdown",
   "metadata": {
    "id": "C-lUWaphEwK_"
   },
   "source": [
    "## Load and Prepare Datasets"
   ]
  },
  {
   "cell_type": "markdown",
   "metadata": {
    "id": "siLpslJoEXEr"
   },
   "source": [
    "First, we are going to import the required Libraries along with the needed modules using the \"import\" command.\n",
    "\n"
   ]
  },
  {
   "cell_type": "code",
   "execution_count": 1,
   "metadata": {
    "colab": {
     "base_uri": "https://localhost:8080/"
    },
    "id": "FFx6fp41EVoE",
    "outputId": "b406a28d-87bc-4d55-c000-9e0dfbc19a7b"
   },
   "outputs": [
    {
     "name": "stdout",
     "output_type": "stream",
     "text": [
      "Looking in indexes: https://pypi.org/simple, https://us-python.pkg.dev/colab-wheels/public/simple/\n",
      "Requirement already satisfied: seaborn in /usr/local/lib/python3.9/dist-packages (0.12.2)\n",
      "Requirement already satisfied: pandas>=0.25 in /usr/local/lib/python3.9/dist-packages (from seaborn) (1.4.4)\n",
      "Requirement already satisfied: matplotlib!=3.6.1,>=3.1 in /usr/local/lib/python3.9/dist-packages (from seaborn) (3.7.1)\n",
      "Requirement already satisfied: numpy!=1.24.0,>=1.17 in /usr/local/lib/python3.9/dist-packages (from seaborn) (1.22.4)\n",
      "Requirement already satisfied: python-dateutil>=2.7 in /usr/local/lib/python3.9/dist-packages (from matplotlib!=3.6.1,>=3.1->seaborn) (2.8.2)\n",
      "Requirement already satisfied: cycler>=0.10 in /usr/local/lib/python3.9/dist-packages (from matplotlib!=3.6.1,>=3.1->seaborn) (0.11.0)\n",
      "Requirement already satisfied: pillow>=6.2.0 in /usr/local/lib/python3.9/dist-packages (from matplotlib!=3.6.1,>=3.1->seaborn) (8.4.0)\n",
      "Requirement already satisfied: pyparsing>=2.3.1 in /usr/local/lib/python3.9/dist-packages (from matplotlib!=3.6.1,>=3.1->seaborn) (3.0.9)\n",
      "Requirement already satisfied: fonttools>=4.22.0 in /usr/local/lib/python3.9/dist-packages (from matplotlib!=3.6.1,>=3.1->seaborn) (4.39.2)\n",
      "Requirement already satisfied: kiwisolver>=1.0.1 in /usr/local/lib/python3.9/dist-packages (from matplotlib!=3.6.1,>=3.1->seaborn) (1.4.4)\n",
      "Requirement already satisfied: packaging>=20.0 in /usr/local/lib/python3.9/dist-packages (from matplotlib!=3.6.1,>=3.1->seaborn) (23.0)\n",
      "Requirement already satisfied: importlib-resources>=3.2.0 in /usr/local/lib/python3.9/dist-packages (from matplotlib!=3.6.1,>=3.1->seaborn) (5.12.0)\n",
      "Requirement already satisfied: contourpy>=1.0.1 in /usr/local/lib/python3.9/dist-packages (from matplotlib!=3.6.1,>=3.1->seaborn) (1.0.7)\n",
      "Requirement already satisfied: pytz>=2020.1 in /usr/local/lib/python3.9/dist-packages (from pandas>=0.25->seaborn) (2022.7.1)\n",
      "Requirement already satisfied: zipp>=3.1.0 in /usr/local/lib/python3.9/dist-packages (from importlib-resources>=3.2.0->matplotlib!=3.6.1,>=3.1->seaborn) (3.15.0)\n",
      "Requirement already satisfied: six>=1.5 in /usr/local/lib/python3.9/dist-packages (from python-dateutil>=2.7->matplotlib!=3.6.1,>=3.1->seaborn) (1.16.0)\n"
     ]
    },
    {
     "name": "stderr",
     "output_type": "stream",
     "text": [
      "[nltk_data] Downloading package wordnet to /root/nltk_data...\n",
      "[nltk_data] Downloading package omw-1.4 to /root/nltk_data...\n",
      "[nltk_data] Downloading package wordnet to /root/nltk_data...\n",
      "[nltk_data]   Package wordnet is already up-to-date!\n",
      "[nltk_data] Downloading package punkt to /root/nltk_data...\n",
      "[nltk_data]   Unzipping tokenizers/punkt.zip.\n",
      "[nltk_data] Downloading package stopwords to /root/nltk_data...\n",
      "[nltk_data]   Unzipping corpora/stopwords.zip.\n",
      "[nltk_data] Downloading package vader_lexicon to /root/nltk_data...\n"
     ]
    },
    {
     "data": {
      "text/plain": [
       "True"
      ]
     },
     "execution_count": 1,
     "metadata": {},
     "output_type": "execute_result"
    }
   ],
   "source": [
    "#Enable plots to be displayed in the notebook\n",
    "%matplotlib inline\n",
    "\n",
    "!pip install seaborn\n",
    "\n",
    "#For data manipulation inport pandas and numpy\n",
    "import pandas as pd\n",
    "import numpy as np\n",
    "\n",
    "#matplotlib and seaborn for visualizations\n",
    "import seaborn as sns\n",
    "import matplotlib.pyplot as plt\n",
    "\n",
    "# for string manipulation import string\n",
    "import string\n",
    "\n",
    "#For text analysis import nltk with several packages\n",
    "import nltk\n",
    "from collections import Counter\n",
    "from nltk.probability import FreqDist\n",
    "from nltk.tokenize import RegexpTokenizer\n",
    "from nltk.corpus import stopwords\n",
    "from nltk.tokenize import word_tokenize\n",
    "from nltk.collocations import *\n",
    "from nltk.collocations import BigramAssocMeasures\n",
    "from nltk.stem import WordNetLemmatizer\n",
    "from nltk.sentiment.vader import SentimentIntensityAnalyzer\n",
    "\n",
    "#for generating a word cloud inport WordCloud\n",
    "from wordcloud import WordCloud\n",
    "\n",
    "#Downloading some additional packages\n",
    "nltk.download('wordnet')\n",
    "nltk.download('omw-1.4')\n",
    "nltk.download('wordnet')\n",
    "nltk.download('punkt')\n",
    "nltk.download('stopwords')\n",
    "nltk.download('vader_lexicon')\n"
   ]
  },
  {
   "cell_type": "markdown",
   "metadata": {
    "id": "qpNlkY77RMcQ"
   },
   "source": [
    "**1. Loading the Datasets**\n",
    "\n",
    "In order to be able to get the CSV files without any additonal format or processing, I uploaded them to my GitHub on a public repository and extracted the raw file by clicking on **raw** at the top right of the file.\n",
    "\n",
    "Each row of data is represented as a line of text, with each field separated by a comma. The first row of the CSV file contains the column headers, which define the names of the fields.\n"
   ]
  },
  {
   "cell_type": "code",
   "execution_count": 2,
   "metadata": {
    "id": "qBjL_EPjRKla"
   },
   "outputs": [],
   "source": [
    "#links to the datasets\n",
    "Intent_Expression_Link = 'https://raw.githubusercontent.com/shalimarchalhoub/TextAnalysis/main/IBM_Debater_(R)_Intent_expressions/train_23.csv'\n",
    "Trust_Data_Link ='https://raw.githubusercontent.com/shalimarchalhoub/TextAnalysis/main/IBM_Debater_(R)_trust_data/data/train.csv'\n"
   ]
  },
  {
   "cell_type": "markdown",
   "metadata": {
    "id": "JRuOvT-KR5hX"
   },
   "source": [
    " **2. Reading the Data from the CSV Files**\n",
    "\n",
    "Since I have links to the raw files of my datasets, I used the read_csv( ) function from Pandas to create my DataFrames\n",
    "\n",
    "\n",
    " "
   ]
  },
  {
   "cell_type": "code",
   "execution_count": 3,
   "metadata": {
    "id": "mNyLH32duQZ2"
   },
   "outputs": [],
   "source": [
    "#Reading the Intent Expression CSV file\n",
    "expressions_df = pd.read_csv(Intent_Expression_Link)\n",
    "trust_df = pd.read_csv(Trust_Data_Link)"
   ]
  },
  {
   "cell_type": "markdown",
   "metadata": {
    "id": "qG-Q1XGgKh4P"
   },
   "source": [
    "## Preliminary Data Exploration\n",
    "\n",
    "Since we have a large dataset, we like to explore it and get some insights on it to get a better understanding of what the dataset looks like\n",
    "\n",
    "Some commands we can use are:\n",
    "* head( ) : To see the first 5 lines of the dataset\n",
    "* info( ) : To see general information about the dataset including Missing Values\n",
    "* sample( ) : To get a random sample of the data to better understand it\n",
    "* decsribe( ) : To see descriptive analysis of the Dataset including max, mean, mean and others \n",
    "\n",
    "For these datasets, we do not have numeral data which we need descriptive analysis for and thus, no need to use the function describe( )"
   ]
  },
  {
   "cell_type": "markdown",
   "metadata": {
    "id": "WOlF-btfXiFp"
   },
   "source": [
    "\n",
    "### Intent Expressions Dataset\n",
    "\n",
    "\n",
    "Since we have 2 datasets, we will explore them separately starting with the Intent Expressions Dataset "
   ]
  },
  {
   "cell_type": "code",
   "execution_count": 4,
   "metadata": {
    "colab": {
     "base_uri": "https://localhost:8080/"
    },
    "id": "UR28HTyXa1B4",
    "outputId": "b5c0ac2f-12e6-437e-bfc1-c21e2be76194"
   },
   "outputs": [
    {
     "name": "stdout",
     "output_type": "stream",
     "text": [
      "<class 'pandas.core.frame.DataFrame'>\n",
      "RangeIndex: 5169 entries, 0 to 5168\n",
      "Data columns (total 3 columns):\n",
      " #   Column     Non-Null Count  Dtype \n",
      "---  ------     --------------  ----- \n",
      " 0   sentence   5169 non-null   object\n",
      " 1   label      5169 non-null   object\n",
      " 2   label_idx  5169 non-null   int64 \n",
      "dtypes: int64(1), object(2)\n",
      "memory usage: 121.3+ KB\n"
     ]
    }
   ],
   "source": [
    "#Check the info of the Intent Expressions Dataset\n",
    "expressions_df.info()"
   ]
  },
  {
   "cell_type": "markdown",
   "metadata": {
    "id": "W-wdpGjJ0Vg3"
   },
   "source": [
    "From the above information we can see that there is no missing information from the dataset and thus, in the preprocessing stage, there is no need to remove missing values"
   ]
  },
  {
   "cell_type": "code",
   "execution_count": 5,
   "metadata": {
    "colab": {
     "base_uri": "https://localhost:8080/",
     "height": 363
    },
    "id": "RD7R1zatKX4D",
    "outputId": "7d24d52d-f8b6-4632-c23a-7b05b9b406a5"
   },
   "outputs": [
    {
     "data": {
      "text/html": [
       "\n",
       "  <div id=\"df-2a279b07-0549-44c3-885e-293918dfef58\">\n",
       "    <div class=\"colab-df-container\">\n",
       "      <div>\n",
       "<style scoped>\n",
       "    .dataframe tbody tr th:only-of-type {\n",
       "        vertical-align: middle;\n",
       "    }\n",
       "\n",
       "    .dataframe tbody tr th {\n",
       "        vertical-align: top;\n",
       "    }\n",
       "\n",
       "    .dataframe thead th {\n",
       "        text-align: right;\n",
       "    }\n",
       "</style>\n",
       "<table border=\"1\" class=\"dataframe\">\n",
       "  <thead>\n",
       "    <tr style=\"text-align: right;\">\n",
       "      <th></th>\n",
       "      <th>sentence</th>\n",
       "      <th>label</th>\n",
       "      <th>label_idx</th>\n",
       "    </tr>\n",
       "  </thead>\n",
       "  <tbody>\n",
       "    <tr>\n",
       "      <th>0</th>\n",
       "      <td>Do booster shots have side effects worsen than...</td>\n",
       "      <td>Are booster shot side effects worse than those...</td>\n",
       "      <td>175</td>\n",
       "    </tr>\n",
       "    <tr>\n",
       "      <th>1</th>\n",
       "      <td>the vaccine has side effects?</td>\n",
       "      <td>Are booster shot side effects worse than those...</td>\n",
       "      <td>175</td>\n",
       "    </tr>\n",
       "    <tr>\n",
       "      <th>2</th>\n",
       "      <td>booster vaccine leaves worse side effects than...</td>\n",
       "      <td>Are booster shot side effects worse than those...</td>\n",
       "      <td>175</td>\n",
       "    </tr>\n",
       "    <tr>\n",
       "      <th>3</th>\n",
       "      <td>are reinforcements safe?</td>\n",
       "      <td>Are booster shot side effects worse than those...</td>\n",
       "      <td>175</td>\n",
       "    </tr>\n",
       "    <tr>\n",
       "      <th>4</th>\n",
       "      <td>because the second dose of the covid-19 vaccin...</td>\n",
       "      <td>Are booster shot side effects worse than those...</td>\n",
       "      <td>175</td>\n",
       "    </tr>\n",
       "    <tr>\n",
       "      <th>5</th>\n",
       "      <td>really the side effects are worse after the fi...</td>\n",
       "      <td>Are booster shot side effects worse than those...</td>\n",
       "      <td>175</td>\n",
       "    </tr>\n",
       "    <tr>\n",
       "      <th>6</th>\n",
       "      <td>Will the second injection have fewer effects t...</td>\n",
       "      <td>Are booster shot side effects worse than those...</td>\n",
       "      <td>175</td>\n",
       "    </tr>\n",
       "    <tr>\n",
       "      <th>7</th>\n",
       "      <td>because the second dose of the vaccine causes ...</td>\n",
       "      <td>Are booster shot side effects worse than those...</td>\n",
       "      <td>175</td>\n",
       "    </tr>\n",
       "    <tr>\n",
       "      <th>8</th>\n",
       "      <td>Are the side effects of the booster worse than...</td>\n",
       "      <td>Are booster shot side effects worse than those...</td>\n",
       "      <td>175</td>\n",
       "    </tr>\n",
       "    <tr>\n",
       "      <th>9</th>\n",
       "      <td>Does the booster have stronger side effects?</td>\n",
       "      <td>Are booster shot side effects worse than those...</td>\n",
       "      <td>175</td>\n",
       "    </tr>\n",
       "  </tbody>\n",
       "</table>\n",
       "</div>\n",
       "      <button class=\"colab-df-convert\" onclick=\"convertToInteractive('df-2a279b07-0549-44c3-885e-293918dfef58')\"\n",
       "              title=\"Convert this dataframe to an interactive table.\"\n",
       "              style=\"display:none;\">\n",
       "        \n",
       "  <svg xmlns=\"http://www.w3.org/2000/svg\" height=\"24px\"viewBox=\"0 0 24 24\"\n",
       "       width=\"24px\">\n",
       "    <path d=\"M0 0h24v24H0V0z\" fill=\"none\"/>\n",
       "    <path d=\"M18.56 5.44l.94 2.06.94-2.06 2.06-.94-2.06-.94-.94-2.06-.94 2.06-2.06.94zm-11 1L8.5 8.5l.94-2.06 2.06-.94-2.06-.94L8.5 2.5l-.94 2.06-2.06.94zm10 10l.94 2.06.94-2.06 2.06-.94-2.06-.94-.94-2.06-.94 2.06-2.06.94z\"/><path d=\"M17.41 7.96l-1.37-1.37c-.4-.4-.92-.59-1.43-.59-.52 0-1.04.2-1.43.59L10.3 9.45l-7.72 7.72c-.78.78-.78 2.05 0 2.83L4 21.41c.39.39.9.59 1.41.59.51 0 1.02-.2 1.41-.59l7.78-7.78 2.81-2.81c.8-.78.8-2.07 0-2.86zM5.41 20L4 18.59l7.72-7.72 1.47 1.35L5.41 20z\"/>\n",
       "  </svg>\n",
       "      </button>\n",
       "      \n",
       "  <style>\n",
       "    .colab-df-container {\n",
       "      display:flex;\n",
       "      flex-wrap:wrap;\n",
       "      gap: 12px;\n",
       "    }\n",
       "\n",
       "    .colab-df-convert {\n",
       "      background-color: #E8F0FE;\n",
       "      border: none;\n",
       "      border-radius: 50%;\n",
       "      cursor: pointer;\n",
       "      display: none;\n",
       "      fill: #1967D2;\n",
       "      height: 32px;\n",
       "      padding: 0 0 0 0;\n",
       "      width: 32px;\n",
       "    }\n",
       "\n",
       "    .colab-df-convert:hover {\n",
       "      background-color: #E2EBFA;\n",
       "      box-shadow: 0px 1px 2px rgba(60, 64, 67, 0.3), 0px 1px 3px 1px rgba(60, 64, 67, 0.15);\n",
       "      fill: #174EA6;\n",
       "    }\n",
       "\n",
       "    [theme=dark] .colab-df-convert {\n",
       "      background-color: #3B4455;\n",
       "      fill: #D2E3FC;\n",
       "    }\n",
       "\n",
       "    [theme=dark] .colab-df-convert:hover {\n",
       "      background-color: #434B5C;\n",
       "      box-shadow: 0px 1px 3px 1px rgba(0, 0, 0, 0.15);\n",
       "      filter: drop-shadow(0px 1px 2px rgba(0, 0, 0, 0.3));\n",
       "      fill: #FFFFFF;\n",
       "    }\n",
       "  </style>\n",
       "\n",
       "      <script>\n",
       "        const buttonEl =\n",
       "          document.querySelector('#df-2a279b07-0549-44c3-885e-293918dfef58 button.colab-df-convert');\n",
       "        buttonEl.style.display =\n",
       "          google.colab.kernel.accessAllowed ? 'block' : 'none';\n",
       "\n",
       "        async function convertToInteractive(key) {\n",
       "          const element = document.querySelector('#df-2a279b07-0549-44c3-885e-293918dfef58');\n",
       "          const dataTable =\n",
       "            await google.colab.kernel.invokeFunction('convertToInteractive',\n",
       "                                                     [key], {});\n",
       "          if (!dataTable) return;\n",
       "\n",
       "          const docLinkHtml = 'Like what you see? Visit the ' +\n",
       "            '<a target=\"_blank\" href=https://colab.research.google.com/notebooks/data_table.ipynb>data table notebook</a>'\n",
       "            + ' to learn more about interactive tables.';\n",
       "          element.innerHTML = '';\n",
       "          dataTable['output_type'] = 'display_data';\n",
       "          await google.colab.output.renderOutput(dataTable, element);\n",
       "          const docLink = document.createElement('div');\n",
       "          docLink.innerHTML = docLinkHtml;\n",
       "          element.appendChild(docLink);\n",
       "        }\n",
       "      </script>\n",
       "    </div>\n",
       "  </div>\n",
       "  "
      ],
      "text/plain": [
       "                                            sentence  \\\n",
       "0  Do booster shots have side effects worsen than...   \n",
       "1                      the vaccine has side effects?   \n",
       "2  booster vaccine leaves worse side effects than...   \n",
       "3                           are reinforcements safe?   \n",
       "4  because the second dose of the covid-19 vaccin...   \n",
       "5  really the side effects are worse after the fi...   \n",
       "6  Will the second injection have fewer effects t...   \n",
       "7  because the second dose of the vaccine causes ...   \n",
       "8  Are the side effects of the booster worse than...   \n",
       "9       Does the booster have stronger side effects?   \n",
       "\n",
       "                                               label  label_idx  \n",
       "0  Are booster shot side effects worse than those...        175  \n",
       "1  Are booster shot side effects worse than those...        175  \n",
       "2  Are booster shot side effects worse than those...        175  \n",
       "3  Are booster shot side effects worse than those...        175  \n",
       "4  Are booster shot side effects worse than those...        175  \n",
       "5  Are booster shot side effects worse than those...        175  \n",
       "6  Are booster shot side effects worse than those...        175  \n",
       "7  Are booster shot side effects worse than those...        175  \n",
       "8  Are booster shot side effects worse than those...        175  \n",
       "9  Are booster shot side effects worse than those...        175  "
      ]
     },
     "execution_count": 5,
     "metadata": {},
     "output_type": "execute_result"
    }
   ],
   "source": [
    "#Check the first 10 Lines of the Dataset\n",
    "expressions_df.head(10)"
   ]
  },
  {
   "cell_type": "code",
   "execution_count": 6,
   "metadata": {
    "colab": {
     "base_uri": "https://localhost:8080/",
     "height": 363
    },
    "id": "Va1qa7rtLq0S",
    "outputId": "81bf799e-429d-4b5b-add6-d35f012e489c"
   },
   "outputs": [
    {
     "data": {
      "text/html": [
       "\n",
       "  <div id=\"df-4b0678c0-23ea-47c8-b6b7-0dc83f27257a\">\n",
       "    <div class=\"colab-df-container\">\n",
       "      <div>\n",
       "<style scoped>\n",
       "    .dataframe tbody tr th:only-of-type {\n",
       "        vertical-align: middle;\n",
       "    }\n",
       "\n",
       "    .dataframe tbody tr th {\n",
       "        vertical-align: top;\n",
       "    }\n",
       "\n",
       "    .dataframe thead th {\n",
       "        text-align: right;\n",
       "    }\n",
       "</style>\n",
       "<table border=\"1\" class=\"dataframe\">\n",
       "  <thead>\n",
       "    <tr style=\"text-align: right;\">\n",
       "      <th></th>\n",
       "      <th>sentence</th>\n",
       "      <th>label</th>\n",
       "      <th>label_idx</th>\n",
       "    </tr>\n",
       "  </thead>\n",
       "  <tbody>\n",
       "    <tr>\n",
       "      <th>3212</th>\n",
       "      <td>I am halal, is the vaccine usable by me?</td>\n",
       "      <td>Is the vaccine halal?</td>\n",
       "      <td>63</td>\n",
       "    </tr>\n",
       "    <tr>\n",
       "      <th>3123</th>\n",
       "      <td>Why should anybody thnk that the booster is co...</td>\n",
       "      <td>Is the booster shot dangerous?</td>\n",
       "      <td>176</td>\n",
       "    </tr>\n",
       "    <tr>\n",
       "      <th>1555</th>\n",
       "      <td>I want to stay safe until vaccinated, what do ...</td>\n",
       "      <td>How can I stay safe until I'm vaccinated?</td>\n",
       "      <td>52</td>\n",
       "    </tr>\n",
       "    <tr>\n",
       "      <th>1154</th>\n",
       "      <td>Do vaccines work against these variants?</td>\n",
       "      <td>Do vaccines work against the mutated strains o...</td>\n",
       "      <td>25</td>\n",
       "    </tr>\n",
       "    <tr>\n",
       "      <th>4106</th>\n",
       "      <td>Is the vaccine dangerous for plasma patients?</td>\n",
       "      <td>What if I've been treated with convalescent pl...</td>\n",
       "      <td>74</td>\n",
       "    </tr>\n",
       "    <tr>\n",
       "      <th>4234</th>\n",
       "      <td>How does the vaccine using mRNA differ from a ...</td>\n",
       "      <td>What is mRNA?</td>\n",
       "      <td>76</td>\n",
       "    </tr>\n",
       "    <tr>\n",
       "      <th>1359</th>\n",
       "      <td>Is one of the ingredients in the vaccine the C...</td>\n",
       "      <td>Does the vaccine contain live COVID virus?</td>\n",
       "      <td>49</td>\n",
       "    </tr>\n",
       "    <tr>\n",
       "      <th>2788</th>\n",
       "      <td>Why did my COVID test come back as negative ev...</td>\n",
       "      <td>I'm still experiencing COVID symptoms even aft...</td>\n",
       "      <td>89</td>\n",
       "    </tr>\n",
       "    <tr>\n",
       "      <th>3176</th>\n",
       "      <td>Is there a difference between FDA approval and...</td>\n",
       "      <td>Is the vaccine FDA approved?</td>\n",
       "      <td>158</td>\n",
       "    </tr>\n",
       "    <tr>\n",
       "      <th>145</th>\n",
       "      <td>I'm young fit and healthy so it seems to me th...</td>\n",
       "      <td>COVID vaccines can be worse than the disease i...</td>\n",
       "      <td>18</td>\n",
       "    </tr>\n",
       "  </tbody>\n",
       "</table>\n",
       "</div>\n",
       "      <button class=\"colab-df-convert\" onclick=\"convertToInteractive('df-4b0678c0-23ea-47c8-b6b7-0dc83f27257a')\"\n",
       "              title=\"Convert this dataframe to an interactive table.\"\n",
       "              style=\"display:none;\">\n",
       "        \n",
       "  <svg xmlns=\"http://www.w3.org/2000/svg\" height=\"24px\"viewBox=\"0 0 24 24\"\n",
       "       width=\"24px\">\n",
       "    <path d=\"M0 0h24v24H0V0z\" fill=\"none\"/>\n",
       "    <path d=\"M18.56 5.44l.94 2.06.94-2.06 2.06-.94-2.06-.94-.94-2.06-.94 2.06-2.06.94zm-11 1L8.5 8.5l.94-2.06 2.06-.94-2.06-.94L8.5 2.5l-.94 2.06-2.06.94zm10 10l.94 2.06.94-2.06 2.06-.94-2.06-.94-.94-2.06-.94 2.06-2.06.94z\"/><path d=\"M17.41 7.96l-1.37-1.37c-.4-.4-.92-.59-1.43-.59-.52 0-1.04.2-1.43.59L10.3 9.45l-7.72 7.72c-.78.78-.78 2.05 0 2.83L4 21.41c.39.39.9.59 1.41.59.51 0 1.02-.2 1.41-.59l7.78-7.78 2.81-2.81c.8-.78.8-2.07 0-2.86zM5.41 20L4 18.59l7.72-7.72 1.47 1.35L5.41 20z\"/>\n",
       "  </svg>\n",
       "      </button>\n",
       "      \n",
       "  <style>\n",
       "    .colab-df-container {\n",
       "      display:flex;\n",
       "      flex-wrap:wrap;\n",
       "      gap: 12px;\n",
       "    }\n",
       "\n",
       "    .colab-df-convert {\n",
       "      background-color: #E8F0FE;\n",
       "      border: none;\n",
       "      border-radius: 50%;\n",
       "      cursor: pointer;\n",
       "      display: none;\n",
       "      fill: #1967D2;\n",
       "      height: 32px;\n",
       "      padding: 0 0 0 0;\n",
       "      width: 32px;\n",
       "    }\n",
       "\n",
       "    .colab-df-convert:hover {\n",
       "      background-color: #E2EBFA;\n",
       "      box-shadow: 0px 1px 2px rgba(60, 64, 67, 0.3), 0px 1px 3px 1px rgba(60, 64, 67, 0.15);\n",
       "      fill: #174EA6;\n",
       "    }\n",
       "\n",
       "    [theme=dark] .colab-df-convert {\n",
       "      background-color: #3B4455;\n",
       "      fill: #D2E3FC;\n",
       "    }\n",
       "\n",
       "    [theme=dark] .colab-df-convert:hover {\n",
       "      background-color: #434B5C;\n",
       "      box-shadow: 0px 1px 3px 1px rgba(0, 0, 0, 0.15);\n",
       "      filter: drop-shadow(0px 1px 2px rgba(0, 0, 0, 0.3));\n",
       "      fill: #FFFFFF;\n",
       "    }\n",
       "  </style>\n",
       "\n",
       "      <script>\n",
       "        const buttonEl =\n",
       "          document.querySelector('#df-4b0678c0-23ea-47c8-b6b7-0dc83f27257a button.colab-df-convert');\n",
       "        buttonEl.style.display =\n",
       "          google.colab.kernel.accessAllowed ? 'block' : 'none';\n",
       "\n",
       "        async function convertToInteractive(key) {\n",
       "          const element = document.querySelector('#df-4b0678c0-23ea-47c8-b6b7-0dc83f27257a');\n",
       "          const dataTable =\n",
       "            await google.colab.kernel.invokeFunction('convertToInteractive',\n",
       "                                                     [key], {});\n",
       "          if (!dataTable) return;\n",
       "\n",
       "          const docLinkHtml = 'Like what you see? Visit the ' +\n",
       "            '<a target=\"_blank\" href=https://colab.research.google.com/notebooks/data_table.ipynb>data table notebook</a>'\n",
       "            + ' to learn more about interactive tables.';\n",
       "          element.innerHTML = '';\n",
       "          dataTable['output_type'] = 'display_data';\n",
       "          await google.colab.output.renderOutput(dataTable, element);\n",
       "          const docLink = document.createElement('div');\n",
       "          docLink.innerHTML = docLinkHtml;\n",
       "          element.appendChild(docLink);\n",
       "        }\n",
       "      </script>\n",
       "    </div>\n",
       "  </div>\n",
       "  "
      ],
      "text/plain": [
       "                                               sentence  \\\n",
       "3212           I am halal, is the vaccine usable by me?   \n",
       "3123  Why should anybody thnk that the booster is co...   \n",
       "1555  I want to stay safe until vaccinated, what do ...   \n",
       "1154           Do vaccines work against these variants?   \n",
       "4106      Is the vaccine dangerous for plasma patients?   \n",
       "4234  How does the vaccine using mRNA differ from a ...   \n",
       "1359  Is one of the ingredients in the vaccine the C...   \n",
       "2788  Why did my COVID test come back as negative ev...   \n",
       "3176  Is there a difference between FDA approval and...   \n",
       "145   I'm young fit and healthy so it seems to me th...   \n",
       "\n",
       "                                                  label  label_idx  \n",
       "3212                              Is the vaccine halal?         63  \n",
       "3123                     Is the booster shot dangerous?        176  \n",
       "1555          How can I stay safe until I'm vaccinated?         52  \n",
       "1154  Do vaccines work against the mutated strains o...         25  \n",
       "4106  What if I've been treated with convalescent pl...         74  \n",
       "4234                                      What is mRNA?         76  \n",
       "1359         Does the vaccine contain live COVID virus?         49  \n",
       "2788  I'm still experiencing COVID symptoms even aft...         89  \n",
       "3176                       Is the vaccine FDA approved?        158  \n",
       "145   COVID vaccines can be worse than the disease i...         18  "
      ]
     },
     "execution_count": 6,
     "metadata": {},
     "output_type": "execute_result"
    }
   ],
   "source": [
    "#Similar to above, but provides a random sample of rows rather than the first few. \n",
    "expressions_df.sample(10)"
   ]
  },
  {
   "cell_type": "markdown",
   "metadata": {
    "id": "m6yRm3swbNbM"
   },
   "source": [
    "### Trust Dataset\n",
    "Next, we will be exploring the trust data dataset"
   ]
  },
  {
   "cell_type": "code",
   "execution_count": 7,
   "metadata": {
    "colab": {
     "base_uri": "https://localhost:8080/"
    },
    "id": "A02xNuZ5bZQd",
    "outputId": "72a30f5b-5e2d-42fd-de51-6dc24452f7cc"
   },
   "outputs": [
    {
     "name": "stdout",
     "output_type": "stream",
     "text": [
      "<class 'pandas.core.frame.DataFrame'>\n",
      "RangeIndex: 1815 entries, 0 to 1814\n",
      "Data columns (total 2 columns):\n",
      " #   Column  Non-Null Count  Dtype \n",
      "---  ------  --------------  ----- \n",
      " 0   text    1815 non-null   object\n",
      " 1   label   1815 non-null   int64 \n",
      "dtypes: int64(1), object(1)\n",
      "memory usage: 28.5+ KB\n"
     ]
    }
   ],
   "source": [
    "#Check the info of the Trust Dataset\n",
    "trust_df.info()"
   ]
  },
  {
   "cell_type": "markdown",
   "metadata": {
    "id": "2f4q_CKGz5xl"
   },
   "source": [
    "From the above information we can see that there is no missing information from the dataset and thus, in the preprocessing stage, there is no need to remove missing values"
   ]
  },
  {
   "cell_type": "code",
   "execution_count": 8,
   "metadata": {
    "colab": {
     "base_uri": "https://localhost:8080/",
     "height": 363
    },
    "id": "coZtd6j_bZI8",
    "outputId": "b566539f-24a6-472f-a6a5-325da6edff86"
   },
   "outputs": [
    {
     "data": {
      "text/html": [
       "\n",
       "  <div id=\"df-0b6d9272-4120-43ff-9468-8caaf60b29dd\">\n",
       "    <div class=\"colab-df-container\">\n",
       "      <div>\n",
       "<style scoped>\n",
       "    .dataframe tbody tr th:only-of-type {\n",
       "        vertical-align: middle;\n",
       "    }\n",
       "\n",
       "    .dataframe tbody tr th {\n",
       "        vertical-align: top;\n",
       "    }\n",
       "\n",
       "    .dataframe thead th {\n",
       "        text-align: right;\n",
       "    }\n",
       "</style>\n",
       "<table border=\"1\" class=\"dataframe\">\n",
       "  <thead>\n",
       "    <tr style=\"text-align: right;\">\n",
       "      <th></th>\n",
       "      <th>text</th>\n",
       "      <th>label</th>\n",
       "    </tr>\n",
       "  </thead>\n",
       "  <tbody>\n",
       "    <tr>\n",
       "      <th>0</th>\n",
       "      <td>If symptomatic patient got the vaccine will he...</td>\n",
       "      <td>0</td>\n",
       "    </tr>\n",
       "    <tr>\n",
       "      <th>1</th>\n",
       "      <td>Has anyone died from getting the Pfizer, Moder...</td>\n",
       "      <td>0</td>\n",
       "    </tr>\n",
       "    <tr>\n",
       "      <th>2</th>\n",
       "      <td>Why should I trust a pharmaceutical company wh...</td>\n",
       "      <td>0</td>\n",
       "    </tr>\n",
       "    <tr>\n",
       "      <th>3</th>\n",
       "      <td>What are antisense RNA's?  Could they or dsRNA...</td>\n",
       "      <td>0</td>\n",
       "    </tr>\n",
       "    <tr>\n",
       "      <th>4</th>\n",
       "      <td>The vaccines aren't FDA approved.</td>\n",
       "      <td>0</td>\n",
       "    </tr>\n",
       "    <tr>\n",
       "      <th>5</th>\n",
       "      <td>Do mRNA vaccines damage reproductive system</td>\n",
       "      <td>0</td>\n",
       "    </tr>\n",
       "    <tr>\n",
       "      <th>6</th>\n",
       "      <td>how many people have several issues after the ...</td>\n",
       "      <td>0</td>\n",
       "    </tr>\n",
       "    <tr>\n",
       "      <th>7</th>\n",
       "      <td>How many people got sick because of the vaccin...</td>\n",
       "      <td>0</td>\n",
       "    </tr>\n",
       "    <tr>\n",
       "      <th>8</th>\n",
       "      <td>How does the vaccine affect fertility</td>\n",
       "      <td>0</td>\n",
       "    </tr>\n",
       "    <tr>\n",
       "      <th>9</th>\n",
       "      <td>Since it is a man made product, what are the l...</td>\n",
       "      <td>0</td>\n",
       "    </tr>\n",
       "  </tbody>\n",
       "</table>\n",
       "</div>\n",
       "      <button class=\"colab-df-convert\" onclick=\"convertToInteractive('df-0b6d9272-4120-43ff-9468-8caaf60b29dd')\"\n",
       "              title=\"Convert this dataframe to an interactive table.\"\n",
       "              style=\"display:none;\">\n",
       "        \n",
       "  <svg xmlns=\"http://www.w3.org/2000/svg\" height=\"24px\"viewBox=\"0 0 24 24\"\n",
       "       width=\"24px\">\n",
       "    <path d=\"M0 0h24v24H0V0z\" fill=\"none\"/>\n",
       "    <path d=\"M18.56 5.44l.94 2.06.94-2.06 2.06-.94-2.06-.94-.94-2.06-.94 2.06-2.06.94zm-11 1L8.5 8.5l.94-2.06 2.06-.94-2.06-.94L8.5 2.5l-.94 2.06-2.06.94zm10 10l.94 2.06.94-2.06 2.06-.94-2.06-.94-.94-2.06-.94 2.06-2.06.94z\"/><path d=\"M17.41 7.96l-1.37-1.37c-.4-.4-.92-.59-1.43-.59-.52 0-1.04.2-1.43.59L10.3 9.45l-7.72 7.72c-.78.78-.78 2.05 0 2.83L4 21.41c.39.39.9.59 1.41.59.51 0 1.02-.2 1.41-.59l7.78-7.78 2.81-2.81c.8-.78.8-2.07 0-2.86zM5.41 20L4 18.59l7.72-7.72 1.47 1.35L5.41 20z\"/>\n",
       "  </svg>\n",
       "      </button>\n",
       "      \n",
       "  <style>\n",
       "    .colab-df-container {\n",
       "      display:flex;\n",
       "      flex-wrap:wrap;\n",
       "      gap: 12px;\n",
       "    }\n",
       "\n",
       "    .colab-df-convert {\n",
       "      background-color: #E8F0FE;\n",
       "      border: none;\n",
       "      border-radius: 50%;\n",
       "      cursor: pointer;\n",
       "      display: none;\n",
       "      fill: #1967D2;\n",
       "      height: 32px;\n",
       "      padding: 0 0 0 0;\n",
       "      width: 32px;\n",
       "    }\n",
       "\n",
       "    .colab-df-convert:hover {\n",
       "      background-color: #E2EBFA;\n",
       "      box-shadow: 0px 1px 2px rgba(60, 64, 67, 0.3), 0px 1px 3px 1px rgba(60, 64, 67, 0.15);\n",
       "      fill: #174EA6;\n",
       "    }\n",
       "\n",
       "    [theme=dark] .colab-df-convert {\n",
       "      background-color: #3B4455;\n",
       "      fill: #D2E3FC;\n",
       "    }\n",
       "\n",
       "    [theme=dark] .colab-df-convert:hover {\n",
       "      background-color: #434B5C;\n",
       "      box-shadow: 0px 1px 3px 1px rgba(0, 0, 0, 0.15);\n",
       "      filter: drop-shadow(0px 1px 2px rgba(0, 0, 0, 0.3));\n",
       "      fill: #FFFFFF;\n",
       "    }\n",
       "  </style>\n",
       "\n",
       "      <script>\n",
       "        const buttonEl =\n",
       "          document.querySelector('#df-0b6d9272-4120-43ff-9468-8caaf60b29dd button.colab-df-convert');\n",
       "        buttonEl.style.display =\n",
       "          google.colab.kernel.accessAllowed ? 'block' : 'none';\n",
       "\n",
       "        async function convertToInteractive(key) {\n",
       "          const element = document.querySelector('#df-0b6d9272-4120-43ff-9468-8caaf60b29dd');\n",
       "          const dataTable =\n",
       "            await google.colab.kernel.invokeFunction('convertToInteractive',\n",
       "                                                     [key], {});\n",
       "          if (!dataTable) return;\n",
       "\n",
       "          const docLinkHtml = 'Like what you see? Visit the ' +\n",
       "            '<a target=\"_blank\" href=https://colab.research.google.com/notebooks/data_table.ipynb>data table notebook</a>'\n",
       "            + ' to learn more about interactive tables.';\n",
       "          element.innerHTML = '';\n",
       "          dataTable['output_type'] = 'display_data';\n",
       "          await google.colab.output.renderOutput(dataTable, element);\n",
       "          const docLink = document.createElement('div');\n",
       "          docLink.innerHTML = docLinkHtml;\n",
       "          element.appendChild(docLink);\n",
       "        }\n",
       "      </script>\n",
       "    </div>\n",
       "  </div>\n",
       "  "
      ],
      "text/plain": [
       "                                                text  label\n",
       "0  If symptomatic patient got the vaccine will he...      0\n",
       "1  Has anyone died from getting the Pfizer, Moder...      0\n",
       "2  Why should I trust a pharmaceutical company wh...      0\n",
       "3  What are antisense RNA's?  Could they or dsRNA...      0\n",
       "4                  The vaccines aren't FDA approved.      0\n",
       "5        Do mRNA vaccines damage reproductive system      0\n",
       "6  how many people have several issues after the ...      0\n",
       "7  How many people got sick because of the vaccin...      0\n",
       "8              How does the vaccine affect fertility      0\n",
       "9  Since it is a man made product, what are the l...      0"
      ]
     },
     "execution_count": 8,
     "metadata": {},
     "output_type": "execute_result"
    }
   ],
   "source": [
    "#Check the first 10 Lines of the Trust Dataset\n",
    "trust_df.head(10)"
   ]
  },
  {
   "cell_type": "code",
   "execution_count": 9,
   "metadata": {
    "colab": {
     "base_uri": "https://localhost:8080/",
     "height": 363
    },
    "id": "l2wUqf0wbY3a",
    "outputId": "8e649b53-b88a-4738-d457-93882566d3db"
   },
   "outputs": [
    {
     "data": {
      "text/html": [
       "\n",
       "  <div id=\"df-6f19bd68-a1d5-4828-9eed-63f1bb60644f\">\n",
       "    <div class=\"colab-df-container\">\n",
       "      <div>\n",
       "<style scoped>\n",
       "    .dataframe tbody tr th:only-of-type {\n",
       "        vertical-align: middle;\n",
       "    }\n",
       "\n",
       "    .dataframe tbody tr th {\n",
       "        vertical-align: top;\n",
       "    }\n",
       "\n",
       "    .dataframe thead th {\n",
       "        text-align: right;\n",
       "    }\n",
       "</style>\n",
       "<table border=\"1\" class=\"dataframe\">\n",
       "  <thead>\n",
       "    <tr style=\"text-align: right;\">\n",
       "      <th></th>\n",
       "      <th>text</th>\n",
       "      <th>label</th>\n",
       "    </tr>\n",
       "  </thead>\n",
       "  <tbody>\n",
       "    <tr>\n",
       "      <th>487</th>\n",
       "      <td>I am diabetic</td>\n",
       "      <td>2</td>\n",
       "    </tr>\n",
       "    <tr>\n",
       "      <th>1026</th>\n",
       "      <td>when will we get to herd immunity</td>\n",
       "      <td>2</td>\n",
       "    </tr>\n",
       "    <tr>\n",
       "      <th>1125</th>\n",
       "      <td>I am young and healthy.  Why do I need to get ...</td>\n",
       "      <td>2</td>\n",
       "    </tr>\n",
       "    <tr>\n",
       "      <th>1482</th>\n",
       "      <td>Does the vaccine prevent the spread of covid?</td>\n",
       "      <td>2</td>\n",
       "    </tr>\n",
       "    <tr>\n",
       "      <th>1553</th>\n",
       "      <td>Why are they calling gene therapy a vaccine?  ...</td>\n",
       "      <td>2</td>\n",
       "    </tr>\n",
       "    <tr>\n",
       "      <th>213</th>\n",
       "      <td>can i get sick from the vaccine</td>\n",
       "      <td>0</td>\n",
       "    </tr>\n",
       "    <tr>\n",
       "      <th>402</th>\n",
       "      <td>I am concerned of side effects</td>\n",
       "      <td>0</td>\n",
       "    </tr>\n",
       "    <tr>\n",
       "      <th>498</th>\n",
       "      <td>corona symptoms</td>\n",
       "      <td>2</td>\n",
       "    </tr>\n",
       "    <tr>\n",
       "      <th>1509</th>\n",
       "      <td>There's more deaths than at any other time ove...</td>\n",
       "      <td>2</td>\n",
       "    </tr>\n",
       "    <tr>\n",
       "      <th>104</th>\n",
       "      <td>is the vaccine made with poop?</td>\n",
       "      <td>0</td>\n",
       "    </tr>\n",
       "  </tbody>\n",
       "</table>\n",
       "</div>\n",
       "      <button class=\"colab-df-convert\" onclick=\"convertToInteractive('df-6f19bd68-a1d5-4828-9eed-63f1bb60644f')\"\n",
       "              title=\"Convert this dataframe to an interactive table.\"\n",
       "              style=\"display:none;\">\n",
       "        \n",
       "  <svg xmlns=\"http://www.w3.org/2000/svg\" height=\"24px\"viewBox=\"0 0 24 24\"\n",
       "       width=\"24px\">\n",
       "    <path d=\"M0 0h24v24H0V0z\" fill=\"none\"/>\n",
       "    <path d=\"M18.56 5.44l.94 2.06.94-2.06 2.06-.94-2.06-.94-.94-2.06-.94 2.06-2.06.94zm-11 1L8.5 8.5l.94-2.06 2.06-.94-2.06-.94L8.5 2.5l-.94 2.06-2.06.94zm10 10l.94 2.06.94-2.06 2.06-.94-2.06-.94-.94-2.06-.94 2.06-2.06.94z\"/><path d=\"M17.41 7.96l-1.37-1.37c-.4-.4-.92-.59-1.43-.59-.52 0-1.04.2-1.43.59L10.3 9.45l-7.72 7.72c-.78.78-.78 2.05 0 2.83L4 21.41c.39.39.9.59 1.41.59.51 0 1.02-.2 1.41-.59l7.78-7.78 2.81-2.81c.8-.78.8-2.07 0-2.86zM5.41 20L4 18.59l7.72-7.72 1.47 1.35L5.41 20z\"/>\n",
       "  </svg>\n",
       "      </button>\n",
       "      \n",
       "  <style>\n",
       "    .colab-df-container {\n",
       "      display:flex;\n",
       "      flex-wrap:wrap;\n",
       "      gap: 12px;\n",
       "    }\n",
       "\n",
       "    .colab-df-convert {\n",
       "      background-color: #E8F0FE;\n",
       "      border: none;\n",
       "      border-radius: 50%;\n",
       "      cursor: pointer;\n",
       "      display: none;\n",
       "      fill: #1967D2;\n",
       "      height: 32px;\n",
       "      padding: 0 0 0 0;\n",
       "      width: 32px;\n",
       "    }\n",
       "\n",
       "    .colab-df-convert:hover {\n",
       "      background-color: #E2EBFA;\n",
       "      box-shadow: 0px 1px 2px rgba(60, 64, 67, 0.3), 0px 1px 3px 1px rgba(60, 64, 67, 0.15);\n",
       "      fill: #174EA6;\n",
       "    }\n",
       "\n",
       "    [theme=dark] .colab-df-convert {\n",
       "      background-color: #3B4455;\n",
       "      fill: #D2E3FC;\n",
       "    }\n",
       "\n",
       "    [theme=dark] .colab-df-convert:hover {\n",
       "      background-color: #434B5C;\n",
       "      box-shadow: 0px 1px 3px 1px rgba(0, 0, 0, 0.15);\n",
       "      filter: drop-shadow(0px 1px 2px rgba(0, 0, 0, 0.3));\n",
       "      fill: #FFFFFF;\n",
       "    }\n",
       "  </style>\n",
       "\n",
       "      <script>\n",
       "        const buttonEl =\n",
       "          document.querySelector('#df-6f19bd68-a1d5-4828-9eed-63f1bb60644f button.colab-df-convert');\n",
       "        buttonEl.style.display =\n",
       "          google.colab.kernel.accessAllowed ? 'block' : 'none';\n",
       "\n",
       "        async function convertToInteractive(key) {\n",
       "          const element = document.querySelector('#df-6f19bd68-a1d5-4828-9eed-63f1bb60644f');\n",
       "          const dataTable =\n",
       "            await google.colab.kernel.invokeFunction('convertToInteractive',\n",
       "                                                     [key], {});\n",
       "          if (!dataTable) return;\n",
       "\n",
       "          const docLinkHtml = 'Like what you see? Visit the ' +\n",
       "            '<a target=\"_blank\" href=https://colab.research.google.com/notebooks/data_table.ipynb>data table notebook</a>'\n",
       "            + ' to learn more about interactive tables.';\n",
       "          element.innerHTML = '';\n",
       "          dataTable['output_type'] = 'display_data';\n",
       "          await google.colab.output.renderOutput(dataTable, element);\n",
       "          const docLink = document.createElement('div');\n",
       "          docLink.innerHTML = docLinkHtml;\n",
       "          element.appendChild(docLink);\n",
       "        }\n",
       "      </script>\n",
       "    </div>\n",
       "  </div>\n",
       "  "
      ],
      "text/plain": [
       "                                                   text  label\n",
       "487                                       I am diabetic      2\n",
       "1026                  when will we get to herd immunity      2\n",
       "1125  I am young and healthy.  Why do I need to get ...      2\n",
       "1482      Does the vaccine prevent the spread of covid?      2\n",
       "1553  Why are they calling gene therapy a vaccine?  ...      2\n",
       "213                     can i get sick from the vaccine      0\n",
       "402                      I am concerned of side effects      0\n",
       "498                                     corona symptoms      2\n",
       "1509  There's more deaths than at any other time ove...      2\n",
       "104                      is the vaccine made with poop?      0"
      ]
     },
     "execution_count": 9,
     "metadata": {},
     "output_type": "execute_result"
    }
   ],
   "source": [
    "#Get a random sample of 10 rows from the Trust Dataset\n",
    "trust_df.sample(10)"
   ]
  },
  {
   "cell_type": "markdown",
   "metadata": {
    "id": "-nPFSA_0TV-6"
   },
   "source": [
    "## Visual Explorations \n",
    "It is very important to visualy explore our datasets since graphs can tell us a lot of information and visuals reveal a lor of hidden information about the data\n",
    "\n",
    "The first thing I'm going to do is a histogram for the Intent Expressions Dataset to show the distribution of answers in regards to each question asked which will lead me to see the questions that were answered most and those answered least."
   ]
  },
  {
   "cell_type": "code",
   "execution_count": 10,
   "metadata": {
    "colab": {
     "base_uri": "https://localhost:8080/",
     "height": 669
    },
    "id": "uII_k434X_fB",
    "outputId": "97f65f27-d8ad-4c2f-b183-a674925521cf"
   },
   "outputs": [
    {
     "data": {
      "image/png": "[encoded data removed]",
      "text/plain": [
       "<Figure size 1200x800 with 1 Axes>"
      ]
     },
     "metadata": {
      "needs_background": "light"
     },
     "output_type": "display_data"
    }
   ],
   "source": [
    "#Using Matplotlib to do a Histogram\n",
    "\n",
    "# Creating a new figure and axis object with a specific size and resolution\n",
    "fig, ax = plt.subplots(figsize=(12, 8), dpi=100)\n",
    "\n",
    "#Plot the hisogram with 181 bins which is the number of questions there is\n",
    "ax.hist(expressions_df['label_idx'], bins=181,linewidth=0.8)\n",
    "\n",
    "# Add x and y labels\n",
    "ax.set_xlabel('Label Index')\n",
    "ax.set_ylabel('Frequency')\n",
    "\n",
    "# Add a title\n",
    "ax.set_title('Histogram of Label Index')\n",
    "\n",
    "plt.show()"
   ]
  },
  {
   "cell_type": "markdown",
   "metadata": {
    "id": "l3QaWBLLbzCU"
   },
   "source": [
    "By examining the histogram, it is apparent that certain questions received significantly fewer answers than others, while some questions received two or three times more answers than the rest. This observation suggests that the distribution of answers is not uniform.\n",
    "\n",
    "\n",
    "____________________________\n",
    "\n"
   ]
  },
  {
   "cell_type": "markdown",
   "metadata": {
    "id": "bcPWpcmTc8zH"
   },
   "source": [
    "Next, we will move on to visually explore the trust Dataset by doing a histogram to show how trusting people were when it came to the COVID-19 Vaccine.\n",
    "The dataset has a column titled **trust label** which diplays the level of trust that people have when it comes to the vaccine following the below parameters.\n",
    "\n",
    "  0 ->  Low Institutional Trust\n",
    "\n",
    "  1 ->  Low Agent Trust\n",
    "\n",
    "  2 ->  Neutral\n",
    "  \n",
    "  3 -> High Trust\n",
    "\n",
    "\n"
   ]
  },
  {
   "cell_type": "code",
   "execution_count": 11,
   "metadata": {
    "colab": {
     "base_uri": "https://localhost:8080/",
     "height": 279
    },
    "id": "-oYG46y6evhS",
    "outputId": "a1f338a9-ccc7-44f8-9961-d232bea4957b"
   },
   "outputs": [
    {
     "data": {
      "image/png": "[encoded data removed]",
      "text/plain": [
       "<Figure size 432x288 with 1 Axes>"
      ]
     },
     "metadata": {
      "needs_background": "light"
     },
     "output_type": "display_data"
    }
   ],
   "source": [
    "#Using matplotlib to do a Histogram\n",
    "\n",
    "#First we count the number of occurence of each level\n",
    "counts = trust_df['label'].value_counts()\n",
    "\n",
    "# Create a bar plot of the frequency counts\n",
    "plt.bar(counts.index, counts.values)\n",
    "\n",
    "# Add labels to the x-axis and y-axis\n",
    "plt.xlabel(\"Level of Trust\")\n",
    "plt.ylabel(\"Frequency\")\n",
    "\n",
    "# Set the x-axis ticks to only show the numbers 0, 1, 2, and 3\n",
    "plt.xticks([0, 1, 2, 3])\n",
    "\n",
    "# Show the plot\n",
    "plt.show()"
   ]
  },
  {
   "cell_type": "markdown",
   "metadata": {
    "id": "u__-5SQX0kkw"
   },
   "source": [
    "The above plot indicates that most people hold a neutral stance toward the vaccine, while less than a quarter express a high level of trust in it. Moreover, those who exhibit a low level of trust in the vaccine tend to have greater distrust in institutions rather than the agents involved.\n",
    "\n",
    "This signifies that just like in my hypothesis, people who are skeptical of the vaccine are almost double those who aren't."
   ]
  },
  {
   "cell_type": "markdown",
   "metadata": {
    "id": "mUg3GD3B_nB3"
   },
   "source": [
    "## Data Cleaning\n",
    "\n",
    "The below code will do the follwing\n",
    "1. Transform all the words to strings\n",
    "2. Tokenize the words\n",
    "3. Transform to lowercase and remove attached punctuations\n",
    "4. Create a list of existing and addtional stopwords\n",
    "5. Remove stopwords from text\n",
    "6. Remove punctuations from text\n",
    "7. Apply Lemmatization to reduce a word to its roots"
   ]
  },
  {
   "cell_type": "code",
   "execution_count": 12,
   "metadata": {
    "colab": {
     "base_uri": "https://localhost:8080/"
    },
    "id": "Ig84n1zy_ksG",
    "outputId": "8fae15af-eeba-4823-f520-3cdfd84de1f2"
   },
   "outputs": [
    {
     "name": "stdout",
     "output_type": "stream",
     "text": [
      "['i', 'me', 'my', 'myself', 'we', 'our', 'ours', 'ourselves', 'you', \"you're\", \"you've\", \"you'll\", \"you'd\", 'your', 'yours', 'yourself', 'yourselves', 'he', 'him', 'his', 'himself', 'she', \"she's\", 'her', 'hers', 'herself', 'it', \"it's\", 'its', 'itself', 'they', 'them', 'their', 'theirs', 'themselves', 'what', 'which', 'who', 'whom', 'this', 'that', \"that'll\", 'these', 'those', 'am', 'is', 'are', 'was', 'were', 'be', 'been', 'being', 'have', 'has', 'had', 'having', 'do', 'does', 'did', 'doing', 'a', 'an', 'the', 'and', 'but', 'if', 'or', 'because', 'as', 'until', 'while', 'of', 'at', 'by', 'for', 'with', 'about', 'against', 'between', 'into', 'through', 'during', 'before', 'after', 'above', 'below', 'to', 'from', 'up', 'down', 'in', 'out', 'on', 'off', 'over', 'under', 'again', 'further', 'then', 'once', 'here', 'there', 'when', 'where', 'why', 'how', 'all', 'any', 'both', 'each', 'few', 'more', 'most', 'other', 'some', 'such', 'no', 'nor', 'not', 'only', 'own', 'same', 'so', 'than', 'too', 'very', 's', 't', 'can', 'will', 'just', 'don', \"don't\", 'should', \"should've\", 'now', 'd', 'll', 'm', 'o', 're', 've', 'y', 'ain', 'aren', \"aren't\", 'couldn', \"couldn't\", 'didn', \"didn't\", 'doesn', \"doesn't\", 'hadn', \"hadn't\", 'hasn', \"hasn't\", 'haven', \"haven't\", 'isn', \"isn't\", 'ma', 'mightn', \"mightn't\", 'mustn', \"mustn't\", 'needn', \"needn't\", 'shan', \"shan't\", 'shouldn', \"shouldn't\", 'wasn', \"wasn't\", 'weren', \"weren't\", 'won', \"won't\", 'wouldn', \"wouldn't\"]\n"
     ]
    }
   ],
   "source": [
    "# converting series to string\n",
    "sentence_text = expressions_df['sentence'].to_string()\n",
    "trust_text = trust_df['text'].to_string()\n",
    "\n",
    "#create word tokens for both datasets\n",
    "tokenized_words = word_tokenize(sentence_text)\n",
    "tokenized_words_t = word_tokenize(trust_text)\n",
    "\n",
    "# converting each text to lowercase and removing any attached punctuation\n",
    "sentence_text_lower = sentence_text.lower().rstrip(string.punctuation).replace(\"-19\" , \"\")\n",
    "trust_text_lower= trust_text.lower().rstrip(string.punctuation).replace(\"-19\" , \"\")\n",
    "\n",
    "#create word tokens\n",
    "tokenized_words = word_tokenize(sentence_text_lower)\n",
    "tokenized_words_t = word_tokenize(trust_text_lower)\n",
    "\n",
    "# Getting the stopwords that need removal\n",
    "stop_words=stopwords.words(\"english\")\n",
    "print(stop_words)\n",
    "\n",
    "#Adding custom stopwords to the list\n",
    "stop_words.extend(['one', \"i've\", 'go', \"i'm\", \"n't\",\"still\", '',\" \", 'really', 'even', 'j' , 'th' ,\"'ve\", \"'m\", '...', '....'])\n",
    "\n",
    "#Creating a new variable to store filtered tokens for Intent Expressions\n",
    "filtered_tokens=[]\n",
    "for w in tokenized_words:    \n",
    "    if w not in stop_words:\n",
    "         #add all filtered tokens excluding stopwords in this list below\n",
    "         filtered_tokens.append(w)\n",
    "         \n",
    "#Creating a new variable to store filtered tokens for Trust Data\n",
    "filtered_tokens_t=[]\n",
    "for w in tokenized_words_t:    \n",
    "    if w not in stop_words:\n",
    "         #add all filtered tokens excluding stopwords in this list below\n",
    "         filtered_tokens_t.append(w)\n",
    "\n",
    "# lemmatization\n",
    "lemmatizer = WordNetLemmatizer()\n",
    "lemmatized_tokens = [lemmatizer.lemmatize(w) for w in filtered_tokens]\n",
    "lemmatized_tokens_t = [lemmatizer.lemmatize(w) for w in filtered_tokens_t]\n",
    "\n",
    "# removing punctuations\n",
    "punctuations=list(string.punctuation)\n",
    "#Add custom punctuations to the list\n",
    "punctuations.append([\"...\", '....'])\n",
    "\n",
    "#Create another variable to store all clean tokens of Intent Expressions\n",
    "filtered_tokens_clean=[]\n",
    "for i in lemmatized_tokens:\n",
    "    if i not in punctuations:\n",
    "        filtered_tokens_clean.append(i)\n",
    "\n",
    "#Create another variable to store all clean tokens of Trust Data\n",
    "filtered_tokens_clean_t=[]\n",
    "for j in lemmatized_tokens_t:\n",
    "    if j not in punctuations:\n",
    "        filtered_tokens_clean_t.append(j)"
   ]
  },
  {
   "cell_type": "markdown",
   "metadata": {
    "id": "ne2j1DzGJy7B"
   },
   "source": [
    "## Intent Expressions Dataset\n",
    "\n",
    "The first step of Data preprocessing for text analysis is to clean the text of any unwanted stop words, upper cases, attached punctuations and additional\n"
   ]
  },
  {
   "cell_type": "markdown",
   "metadata": {
    "id": "DLU1LtqMaGpx"
   },
   "source": [
    "Now we have new datasets to use that have been pre processed, tokenized and cleaned\n",
    "\n",
    "* For the Intent Expressions Dataset: filtered_tokens_clean\n",
    "* For the Turst Dataset: filtered_tokens_clean_t"
   ]
  },
  {
   "cell_type": "markdown",
   "metadata": {
    "id": "-_HXOvTF22_-"
   },
   "source": [
    "### Word Count and Frequencies\n",
    "\n",
    "Word frequencies provide valuable information about the occurence of words used in a text, enabling us to identify the most frequently and least frequently used words. \n",
    "\n",
    "This information can be utilized to gain insights into the underlying patterns and themes in a text. Analyzing the word count can also be instrumental in various text preprocessing tasks, such as sentiment analysis, topic modeling, and text classification, among others. \n",
    "\n",
    "By obtaining and analyzing the word count of a text, we can effectively clean and prepare the text for further analysis and use it to derive meaningful insights."
   ]
  },
  {
   "cell_type": "code",
   "execution_count": 13,
   "metadata": {
    "id": "QbJSpFNEOhjV"
   },
   "outputs": [],
   "source": [
    "# First, I created a function that returns word count\n",
    "def word_count(text):\n",
    "    wc = len(text.split())\n",
    "    return wc"
   ]
  },
  {
   "cell_type": "markdown",
   "metadata": {
    "id": "Qhe5E9UDaiTd"
   },
   "source": [
    "After that, I apply the word_count function to the answers in order to create a new column containing the number of words in each answer."
   ]
  },
  {
   "cell_type": "code",
   "execution_count": 14,
   "metadata": {
    "id": "4VAJynJ4br3O"
   },
   "outputs": [],
   "source": [
    "expressions_df['word_count'] = expressions_df['sentence'].apply(word_count)"
   ]
  },
  {
   "cell_type": "markdown",
   "metadata": {
    "id": "RTgA9Z4_cxvx"
   },
   "source": [
    "I used the describe function to provide some information on the length of responses in our dataset"
   ]
  },
  {
   "cell_type": "code",
   "execution_count": 15,
   "metadata": {
    "colab": {
     "base_uri": "https://localhost:8080/"
    },
    "id": "SOd1nHTebsAL",
    "outputId": "da733925-3d4f-430d-f2c1-cf32886844bc"
   },
   "outputs": [
    {
     "data": {
      "text/plain": [
       "count    5169.000000\n",
       "mean       11.222093\n",
       "std         5.386944\n",
       "min         1.000000\n",
       "25%         8.000000\n",
       "50%        10.000000\n",
       "75%        14.000000\n",
       "max        66.000000\n",
       "Name: word_count, dtype: float64"
      ]
     },
     "execution_count": 15,
     "metadata": {},
     "output_type": "execute_result"
    }
   ],
   "source": [
    "expressions_df['word_count'].describe()"
   ]
  },
  {
   "cell_type": "markdown",
   "metadata": {
    "id": "2TfBZ-8dvzLu"
   },
   "source": [
    "The majority of responses had a mean length of 11-12 words, while the shortest response consisted of only one word and the longest response comprised 66 words."
   ]
  },
  {
   "cell_type": "code",
   "execution_count": 16,
   "metadata": {
    "colab": {
     "base_uri": "https://localhost:8080/",
     "height": 282
    },
    "id": "oXvBS47ic_th",
    "outputId": "d8aa3957-2f8d-41db-9089-1ca3f93c0573"
   },
   "outputs": [
    {
     "data": {
      "text/plain": [
       "<Axes: >"
      ]
     },
     "execution_count": 16,
     "metadata": {},
     "output_type": "execute_result"
    },
    {
     "data": {
      "image/png": "[encoded data removed]",
      "text/plain": [
       "<Figure size 432x288 with 1 Axes>"
      ]
     },
     "metadata": {
      "needs_background": "light"
     },
     "output_type": "display_data"
    }
   ],
   "source": [
    "expressions_df['word_count'].hist(bins = 12)"
   ]
  },
  {
   "cell_type": "code",
   "execution_count": 17,
   "metadata": {
    "colab": {
     "base_uri": "https://localhost:8080/",
     "height": 342
    },
    "id": "juhl86IXdHX_",
    "outputId": "35436916-7152-4cf4-ea46-3524987f8c23"
   },
   "outputs": [
    {
     "data": {
      "image/png": "[encoded data removed]",
      "text/plain": [
       "<Figure size 1800x576 with 1 Axes>"
      ]
     },
     "metadata": {
      "needs_background": "light"
     },
     "output_type": "display_data"
    }
   ],
   "source": [
    "# Setting the size of the figure\n",
    "plt.figure(figsize=(25,8))\n",
    "\n",
    "#Plotting the Box Plot\n",
    "sns.boxplot(x = \"label_idx\", \n",
    "            y = \"word_count\",\n",
    "            data =expressions_df,\n",
    "            palette=\"Set3\")\n",
    "\n",
    "# Add a title and axis labels\n",
    "plt.title(\"Distribution of Word Counts by Label Index\", fontsize=16)\n",
    "plt.xlabel(\"Label Index\", fontsize=14)\n",
    "plt.ylabel(\"Word Count\", fontsize=14)\n",
    "\n",
    "# Adding grid lines and adjusting the tick font size to accomodate such a big graph\n",
    "plt.grid(axis='y', alpha=0.75)\n",
    "plt.xticks(fontsize=8)\n",
    "plt.yticks(fontsize=12)\n",
    "\n",
    "# Show the plot\n",
    "plt.show()\n",
    "\n"
   ]
  },
  {
   "cell_type": "markdown",
   "metadata": {
    "id": "1HUKG8VZ9J18"
   },
   "source": [
    "The displayed boxplot indicates the presence of several outliers in the dataset. It is noteworthy that certain questions contain both really short and extremely long answers."
   ]
  },
  {
   "cell_type": "code",
   "execution_count": 18,
   "metadata": {
    "colab": {
     "base_uri": "https://localhost:8080/",
     "height": 403
    },
    "id": "OtO4PtQMpnjE",
    "outputId": "e9484c14-dc75-4c4b-f92e-df3e3b5033d7"
   },
   "outputs": [
    {
     "data": {
      "image/png": "[encoded data removed]",
      "text/plain": [
       "<Figure size 720x504 with 1 Axes>"
      ]
     },
     "metadata": {
      "needs_background": "light"
     },
     "output_type": "display_data"
    }
   ],
   "source": [
    "#Doing a word cloud\n",
    "all_words_lem = ' '.join([word for word in lemmatized_tokens])\n",
    "\n",
    "wordcloud = WordCloud(width=600,\n",
    "                     height=400,\n",
    "                     random_state=2,\n",
    "                     max_font_size=100).generate(all_words_lem)\n",
    "\n",
    "plt.figure(figsize=(10, 7))\n",
    "plt.imshow(wordcloud, interpolation='bilinear')\n",
    "plt.axis('off');"
   ]
  },
  {
   "cell_type": "markdown",
   "metadata": {
    "id": "Hd97Xhasp0R_"
   },
   "source": [
    "Word clouds are a great way to visualize which words appear most in my text and we will double check that below in the frequent words bar chart"
   ]
  },
  {
   "cell_type": "code",
   "execution_count": 19,
   "metadata": {
    "colab": {
     "base_uri": "https://localhost:8080/",
     "height": 621
    },
    "id": "qHOgXePYCZQe",
    "outputId": "a73dcc51-c820-428b-fa11-0aa801f2d6a0"
   },
   "outputs": [
    {
     "data": {
      "image/png": "[encoded data removed]",
      "text/plain": [
       "<Figure size 720x720 with 1 Axes>"
      ]
     },
     "metadata": {
      "needs_background": "light"
     },
     "output_type": "display_data"
    }
   ],
   "source": [
    "#Doing a frequency distribution using the inbuilt python function\n",
    "freq_dist = nltk.FreqDist(filtered_tokens_clean)\n",
    "\n",
    "# Sorting the frequency distribution by frequency in descending order\n",
    "sorted_freq_dist = sorted(freq_dist.items(), key=lambda x: x[1], reverse=True)\n",
    "\n",
    "# Extract the top 50 words with the highest frequencies\n",
    "top_words = sorted_freq_dist[:50]\n",
    "\n",
    "# Creating a bar graph of the top word frequencies\n",
    "plt.figure(figsize=(10,10))\n",
    "\n",
    "plt.barh(range(len(top_words)), [word[1] for word in reversed(top_words)], align='center')\n",
    "plt.yticks(range(len(top_words)), [word[0] for word in reversed(top_words)])\n",
    "plt.xlabel('Words')\n",
    "plt.ylabel('Frequency')\n",
    "plt.title('Most frequent words in rephrasing COVID-19 vaccine related questions')\n",
    "plt.show()"
   ]
  },
  {
   "cell_type": "markdown",
   "metadata": {
    "id": "ntMgPAcp1kee"
   },
   "source": [
    "Since this dataset tackles opinions about the vaccine, we can see that vaccine, vaccinated and vaccines are on the top of the list followed by covid and covid-19.\n",
    "\n",
    "What is interesting is that the words \"effects\" and \"sides\" are among the top most used words in answers hence showcasing that people were concerned with the side effects of the vaccine and thus, mentioned it a lot while rephrasing the questions.\n",
    "\n",
    "We can see the words \"dangerous\", \"worried\", \"concerened\" and \"sick\" among the 50 most used words, leading us to think that people might have been scared of getting it.\n",
    "\n",
    "\n",
    "\n",
    "---\n",
    "\n"
   ]
  },
  {
   "cell_type": "markdown",
   "metadata": {
    "id": "XBRZc7rHritQ"
   },
   "source": [
    "We further explore the answers which are of the longest and shortest lengths"
   ]
  },
  {
   "cell_type": "code",
   "execution_count": 20,
   "metadata": {
    "colab": {
     "base_uri": "https://localhost:8080/",
     "height": 363
    },
    "id": "onZCq-mHrn5m",
    "outputId": "d4609430-fced-44b9-c125-44bf9ee14649"
   },
   "outputs": [
    {
     "data": {
      "text/html": [
       "\n",
       "  <div id=\"df-66b17fa4-4791-4d8a-957a-0334e6c5133e\">\n",
       "    <div class=\"colab-df-container\">\n",
       "      <div>\n",
       "<style scoped>\n",
       "    .dataframe tbody tr th:only-of-type {\n",
       "        vertical-align: middle;\n",
       "    }\n",
       "\n",
       "    .dataframe tbody tr th {\n",
       "        vertical-align: top;\n",
       "    }\n",
       "\n",
       "    .dataframe thead th {\n",
       "        text-align: right;\n",
       "    }\n",
       "</style>\n",
       "<table border=\"1\" class=\"dataframe\">\n",
       "  <thead>\n",
       "    <tr style=\"text-align: right;\">\n",
       "      <th></th>\n",
       "      <th>sentence</th>\n",
       "      <th>label</th>\n",
       "      <th>label_idx</th>\n",
       "      <th>word_count</th>\n",
       "    </tr>\n",
       "  </thead>\n",
       "  <tbody>\n",
       "    <tr>\n",
       "      <th>5125</th>\n",
       "      <td>covid-19</td>\n",
       "      <td>what is covid?</td>\n",
       "      <td>97</td>\n",
       "      <td>1</td>\n",
       "    </tr>\n",
       "    <tr>\n",
       "      <th>4195</th>\n",
       "      <td>whats?</td>\n",
       "      <td>What is in the vaccine?</td>\n",
       "      <td>28</td>\n",
       "      <td>1</td>\n",
       "    </tr>\n",
       "    <tr>\n",
       "      <th>5068</th>\n",
       "      <td>erectile disfunction?</td>\n",
       "      <td>Will the vaccine make me sterile or infertile?</td>\n",
       "      <td>86</td>\n",
       "      <td>2</td>\n",
       "    </tr>\n",
       "    <tr>\n",
       "      <th>613</th>\n",
       "      <td>for kids</td>\n",
       "      <td>Can children get the vaccine?</td>\n",
       "      <td>90</td>\n",
       "      <td>2</td>\n",
       "    </tr>\n",
       "    <tr>\n",
       "      <th>3540</th>\n",
       "      <td>its safe?</td>\n",
       "      <td>The COVID vaccine is not safe</td>\n",
       "      <td>23</td>\n",
       "      <td>2</td>\n",
       "    </tr>\n",
       "    <tr>\n",
       "      <th>1423</th>\n",
       "      <td>I'm prefnant</td>\n",
       "      <td>Does the vaccine impact pregnancy?</td>\n",
       "      <td>50</td>\n",
       "      <td>2</td>\n",
       "    </tr>\n",
       "    <tr>\n",
       "      <th>2408</th>\n",
       "      <td>its necessary?</td>\n",
       "      <td>I don't think the vaccine is necessary</td>\n",
       "      <td>12</td>\n",
       "      <td>2</td>\n",
       "    </tr>\n",
       "    <tr>\n",
       "      <th>5161</th>\n",
       "      <td>emergency covid?</td>\n",
       "      <td>what is covid?</td>\n",
       "      <td>97</td>\n",
       "      <td>2</td>\n",
       "    </tr>\n",
       "    <tr>\n",
       "      <th>3470</th>\n",
       "      <td>secondary effects</td>\n",
       "      <td>Side effects and adverse reactions worry me</td>\n",
       "      <td>22</td>\n",
       "      <td>2</td>\n",
       "    </tr>\n",
       "    <tr>\n",
       "      <th>172</th>\n",
       "      <td>covid-19 is dangerous?</td>\n",
       "      <td>COVID-19 is not as dangerous as they say</td>\n",
       "      <td>0</td>\n",
       "      <td>3</td>\n",
       "    </tr>\n",
       "  </tbody>\n",
       "</table>\n",
       "</div>\n",
       "      <button class=\"colab-df-convert\" onclick=\"convertToInteractive('df-66b17fa4-4791-4d8a-957a-0334e6c5133e')\"\n",
       "              title=\"Convert this dataframe to an interactive table.\"\n",
       "              style=\"display:none;\">\n",
       "        \n",
       "  <svg xmlns=\"http://www.w3.org/2000/svg\" height=\"24px\"viewBox=\"0 0 24 24\"\n",
       "       width=\"24px\">\n",
       "    <path d=\"M0 0h24v24H0V0z\" fill=\"none\"/>\n",
       "    <path d=\"M18.56 5.44l.94 2.06.94-2.06 2.06-.94-2.06-.94-.94-2.06-.94 2.06-2.06.94zm-11 1L8.5 8.5l.94-2.06 2.06-.94-2.06-.94L8.5 2.5l-.94 2.06-2.06.94zm10 10l.94 2.06.94-2.06 2.06-.94-2.06-.94-.94-2.06-.94 2.06-2.06.94z\"/><path d=\"M17.41 7.96l-1.37-1.37c-.4-.4-.92-.59-1.43-.59-.52 0-1.04.2-1.43.59L10.3 9.45l-7.72 7.72c-.78.78-.78 2.05 0 2.83L4 21.41c.39.39.9.59 1.41.59.51 0 1.02-.2 1.41-.59l7.78-7.78 2.81-2.81c.8-.78.8-2.07 0-2.86zM5.41 20L4 18.59l7.72-7.72 1.47 1.35L5.41 20z\"/>\n",
       "  </svg>\n",
       "      </button>\n",
       "      \n",
       "  <style>\n",
       "    .colab-df-container {\n",
       "      display:flex;\n",
       "      flex-wrap:wrap;\n",
       "      gap: 12px;\n",
       "    }\n",
       "\n",
       "    .colab-df-convert {\n",
       "      background-color: #E8F0FE;\n",
       "      border: none;\n",
       "      border-radius: 50%;\n",
       "      cursor: pointer;\n",
       "      display: none;\n",
       "      fill: #1967D2;\n",
       "      height: 32px;\n",
       "      padding: 0 0 0 0;\n",
       "      width: 32px;\n",
       "    }\n",
       "\n",
       "    .colab-df-convert:hover {\n",
       "      background-color: #E2EBFA;\n",
       "      box-shadow: 0px 1px 2px rgba(60, 64, 67, 0.3), 0px 1px 3px 1px rgba(60, 64, 67, 0.15);\n",
       "      fill: #174EA6;\n",
       "    }\n",
       "\n",
       "    [theme=dark] .colab-df-convert {\n",
       "      background-color: #3B4455;\n",
       "      fill: #D2E3FC;\n",
       "    }\n",
       "\n",
       "    [theme=dark] .colab-df-convert:hover {\n",
       "      background-color: #434B5C;\n",
       "      box-shadow: 0px 1px 3px 1px rgba(0, 0, 0, 0.15);\n",
       "      filter: drop-shadow(0px 1px 2px rgba(0, 0, 0, 0.3));\n",
       "      fill: #FFFFFF;\n",
       "    }\n",
       "  </style>\n",
       "\n",
       "      <script>\n",
       "        const buttonEl =\n",
       "          document.querySelector('#df-66b17fa4-4791-4d8a-957a-0334e6c5133e button.colab-df-convert');\n",
       "        buttonEl.style.display =\n",
       "          google.colab.kernel.accessAllowed ? 'block' : 'none';\n",
       "\n",
       "        async function convertToInteractive(key) {\n",
       "          const element = document.querySelector('#df-66b17fa4-4791-4d8a-957a-0334e6c5133e');\n",
       "          const dataTable =\n",
       "            await google.colab.kernel.invokeFunction('convertToInteractive',\n",
       "                                                     [key], {});\n",
       "          if (!dataTable) return;\n",
       "\n",
       "          const docLinkHtml = 'Like what you see? Visit the ' +\n",
       "            '<a target=\"_blank\" href=https://colab.research.google.com/notebooks/data_table.ipynb>data table notebook</a>'\n",
       "            + ' to learn more about interactive tables.';\n",
       "          element.innerHTML = '';\n",
       "          dataTable['output_type'] = 'display_data';\n",
       "          await google.colab.output.renderOutput(dataTable, element);\n",
       "          const docLink = document.createElement('div');\n",
       "          docLink.innerHTML = docLinkHtml;\n",
       "          element.appendChild(docLink);\n",
       "        }\n",
       "      </script>\n",
       "    </div>\n",
       "  </div>\n",
       "  "
      ],
      "text/plain": [
       "                    sentence                                           label  \\\n",
       "5125                covid-19                                  what is covid?   \n",
       "4195                  whats?                         What is in the vaccine?   \n",
       "5068   erectile disfunction?  Will the vaccine make me sterile or infertile?   \n",
       "613                 for kids                   Can children get the vaccine?   \n",
       "3540               its safe?                   The COVID vaccine is not safe   \n",
       "1423            I'm prefnant              Does the vaccine impact pregnancy?   \n",
       "2408          its necessary?          I don't think the vaccine is necessary   \n",
       "5161        emergency covid?                                  what is covid?   \n",
       "3470       secondary effects     Side effects and adverse reactions worry me   \n",
       "172   covid-19 is dangerous?        COVID-19 is not as dangerous as they say   \n",
       "\n",
       "      label_idx  word_count  \n",
       "5125         97           1  \n",
       "4195         28           1  \n",
       "5068         86           2  \n",
       "613          90           2  \n",
       "3540         23           2  \n",
       "1423         50           2  \n",
       "2408         12           2  \n",
       "5161         97           2  \n",
       "3470         22           2  \n",
       "172           0           3  "
      ]
     },
     "execution_count": 20,
     "metadata": {},
     "output_type": "execute_result"
    }
   ],
   "source": [
    "#shortest answers\n",
    "expressions_df.sort_values(by='word_count').head(10)"
   ]
  },
  {
   "cell_type": "code",
   "execution_count": 21,
   "metadata": {
    "colab": {
     "base_uri": "https://localhost:8080/",
     "height": 363
    },
    "id": "qtDpdf1NsKoJ",
    "outputId": "593ddffc-4660-492c-e543-89f6d0c1ba79"
   },
   "outputs": [
    {
     "data": {
      "text/html": [
       "\n",
       "  <div id=\"df-2fa1b19c-91d3-4cd1-8134-99fe9e11546a\">\n",
       "    <div class=\"colab-df-container\">\n",
       "      <div>\n",
       "<style scoped>\n",
       "    .dataframe tbody tr th:only-of-type {\n",
       "        vertical-align: middle;\n",
       "    }\n",
       "\n",
       "    .dataframe tbody tr th {\n",
       "        vertical-align: top;\n",
       "    }\n",
       "\n",
       "    .dataframe thead th {\n",
       "        text-align: right;\n",
       "    }\n",
       "</style>\n",
       "<table border=\"1\" class=\"dataframe\">\n",
       "  <thead>\n",
       "    <tr style=\"text-align: right;\">\n",
       "      <th></th>\n",
       "      <th>sentence</th>\n",
       "      <th>label</th>\n",
       "      <th>label_idx</th>\n",
       "      <th>word_count</th>\n",
       "    </tr>\n",
       "  </thead>\n",
       "  <tbody>\n",
       "    <tr>\n",
       "      <th>2929</th>\n",
       "      <td>Make sure you understand and comply with all t...</td>\n",
       "      <td>Is it okay for me to travel internationally if...</td>\n",
       "      <td>107</td>\n",
       "      <td>66</td>\n",
       "    </tr>\n",
       "    <tr>\n",
       "      <th>3750</th>\n",
       "      <td>The fear that a vaccine will somehow change yo...</td>\n",
       "      <td>They will put a chip/microchip to manipulate me</td>\n",
       "      <td>26</td>\n",
       "      <td>62</td>\n",
       "    </tr>\n",
       "    <tr>\n",
       "      <th>2448</th>\n",
       "      <td>These companies could be out to make a profit ...</td>\n",
       "      <td>I don't trust the companies producing the vacc...</td>\n",
       "      <td>13</td>\n",
       "      <td>56</td>\n",
       "    </tr>\n",
       "    <tr>\n",
       "      <th>4687</th>\n",
       "      <td>For many, a nationwide return to normalcy from...</td>\n",
       "      <td>Why are COVID-19 vaccination rates slowing in ...</td>\n",
       "      <td>131</td>\n",
       "      <td>55</td>\n",
       "    </tr>\n",
       "    <tr>\n",
       "      <th>3159</th>\n",
       "      <td>The standard FDA approval process is like a si...</td>\n",
       "      <td>Is the vaccine FDA approved?</td>\n",
       "      <td>158</td>\n",
       "      <td>46</td>\n",
       "    </tr>\n",
       "    <tr>\n",
       "      <th>3493</th>\n",
       "      <td>after what corona virus did to the world, i ca...</td>\n",
       "      <td>Tell me about the vaccine</td>\n",
       "      <td>121</td>\n",
       "      <td>43</td>\n",
       "    </tr>\n",
       "    <tr>\n",
       "      <th>2055</th>\n",
       "      <td>The COVID-19 vaccine will be free for all, reg...</td>\n",
       "      <td>How much will I have to pay for the vaccine</td>\n",
       "      <td>11</td>\n",
       "      <td>40</td>\n",
       "    </tr>\n",
       "    <tr>\n",
       "      <th>4089</th>\n",
       "      <td>No vaccine is 100% effective so it is still th...</td>\n",
       "      <td>What if I still get infected even after receiv...</td>\n",
       "      <td>73</td>\n",
       "      <td>37</td>\n",
       "    </tr>\n",
       "    <tr>\n",
       "      <th>4683</th>\n",
       "      <td>As the US may miss a vaccination goal set by P...</td>\n",
       "      <td>Why are COVID-19 vaccination rates slowing in ...</td>\n",
       "      <td>131</td>\n",
       "      <td>36</td>\n",
       "    </tr>\n",
       "    <tr>\n",
       "      <th>5067</th>\n",
       "      <td>I was told they dont know what kind of effect ...</td>\n",
       "      <td>Will the vaccine make me sterile or infertile?</td>\n",
       "      <td>86</td>\n",
       "      <td>36</td>\n",
       "    </tr>\n",
       "  </tbody>\n",
       "</table>\n",
       "</div>\n",
       "      <button class=\"colab-df-convert\" onclick=\"convertToInteractive('df-2fa1b19c-91d3-4cd1-8134-99fe9e11546a')\"\n",
       "              title=\"Convert this dataframe to an interactive table.\"\n",
       "              style=\"display:none;\">\n",
       "        \n",
       "  <svg xmlns=\"http://www.w3.org/2000/svg\" height=\"24px\"viewBox=\"0 0 24 24\"\n",
       "       width=\"24px\">\n",
       "    <path d=\"M0 0h24v24H0V0z\" fill=\"none\"/>\n",
       "    <path d=\"M18.56 5.44l.94 2.06.94-2.06 2.06-.94-2.06-.94-.94-2.06-.94 2.06-2.06.94zm-11 1L8.5 8.5l.94-2.06 2.06-.94-2.06-.94L8.5 2.5l-.94 2.06-2.06.94zm10 10l.94 2.06.94-2.06 2.06-.94-2.06-.94-.94-2.06-.94 2.06-2.06.94z\"/><path d=\"M17.41 7.96l-1.37-1.37c-.4-.4-.92-.59-1.43-.59-.52 0-1.04.2-1.43.59L10.3 9.45l-7.72 7.72c-.78.78-.78 2.05 0 2.83L4 21.41c.39.39.9.59 1.41.59.51 0 1.02-.2 1.41-.59l7.78-7.78 2.81-2.81c.8-.78.8-2.07 0-2.86zM5.41 20L4 18.59l7.72-7.72 1.47 1.35L5.41 20z\"/>\n",
       "  </svg>\n",
       "      </button>\n",
       "      \n",
       "  <style>\n",
       "    .colab-df-container {\n",
       "      display:flex;\n",
       "      flex-wrap:wrap;\n",
       "      gap: 12px;\n",
       "    }\n",
       "\n",
       "    .colab-df-convert {\n",
       "      background-color: #E8F0FE;\n",
       "      border: none;\n",
       "      border-radius: 50%;\n",
       "      cursor: pointer;\n",
       "      display: none;\n",
       "      fill: #1967D2;\n",
       "      height: 32px;\n",
       "      padding: 0 0 0 0;\n",
       "      width: 32px;\n",
       "    }\n",
       "\n",
       "    .colab-df-convert:hover {\n",
       "      background-color: #E2EBFA;\n",
       "      box-shadow: 0px 1px 2px rgba(60, 64, 67, 0.3), 0px 1px 3px 1px rgba(60, 64, 67, 0.15);\n",
       "      fill: #174EA6;\n",
       "    }\n",
       "\n",
       "    [theme=dark] .colab-df-convert {\n",
       "      background-color: #3B4455;\n",
       "      fill: #D2E3FC;\n",
       "    }\n",
       "\n",
       "    [theme=dark] .colab-df-convert:hover {\n",
       "      background-color: #434B5C;\n",
       "      box-shadow: 0px 1px 3px 1px rgba(0, 0, 0, 0.15);\n",
       "      filter: drop-shadow(0px 1px 2px rgba(0, 0, 0, 0.3));\n",
       "      fill: #FFFFFF;\n",
       "    }\n",
       "  </style>\n",
       "\n",
       "      <script>\n",
       "        const buttonEl =\n",
       "          document.querySelector('#df-2fa1b19c-91d3-4cd1-8134-99fe9e11546a button.colab-df-convert');\n",
       "        buttonEl.style.display =\n",
       "          google.colab.kernel.accessAllowed ? 'block' : 'none';\n",
       "\n",
       "        async function convertToInteractive(key) {\n",
       "          const element = document.querySelector('#df-2fa1b19c-91d3-4cd1-8134-99fe9e11546a');\n",
       "          const dataTable =\n",
       "            await google.colab.kernel.invokeFunction('convertToInteractive',\n",
       "                                                     [key], {});\n",
       "          if (!dataTable) return;\n",
       "\n",
       "          const docLinkHtml = 'Like what you see? Visit the ' +\n",
       "            '<a target=\"_blank\" href=https://colab.research.google.com/notebooks/data_table.ipynb>data table notebook</a>'\n",
       "            + ' to learn more about interactive tables.';\n",
       "          element.innerHTML = '';\n",
       "          dataTable['output_type'] = 'display_data';\n",
       "          await google.colab.output.renderOutput(dataTable, element);\n",
       "          const docLink = document.createElement('div');\n",
       "          docLink.innerHTML = docLinkHtml;\n",
       "          element.appendChild(docLink);\n",
       "        }\n",
       "      </script>\n",
       "    </div>\n",
       "  </div>\n",
       "  "
      ],
      "text/plain": [
       "                                               sentence  \\\n",
       "2929  Make sure you understand and comply with all t...   \n",
       "3750  The fear that a vaccine will somehow change yo...   \n",
       "2448  These companies could be out to make a profit ...   \n",
       "4687  For many, a nationwide return to normalcy from...   \n",
       "3159  The standard FDA approval process is like a si...   \n",
       "3493  after what corona virus did to the world, i ca...   \n",
       "2055  The COVID-19 vaccine will be free for all, reg...   \n",
       "4089  No vaccine is 100% effective so it is still th...   \n",
       "4683  As the US may miss a vaccination goal set by P...   \n",
       "5067  I was told they dont know what kind of effect ...   \n",
       "\n",
       "                                                  label  label_idx  word_count  \n",
       "2929  Is it okay for me to travel internationally if...        107          66  \n",
       "3750    They will put a chip/microchip to manipulate me         26          62  \n",
       "2448  I don't trust the companies producing the vacc...         13          56  \n",
       "4687  Why are COVID-19 vaccination rates slowing in ...        131          55  \n",
       "3159                       Is the vaccine FDA approved?        158          46  \n",
       "3493                          Tell me about the vaccine        121          43  \n",
       "2055        How much will I have to pay for the vaccine         11          40  \n",
       "4089  What if I still get infected even after receiv...         73          37  \n",
       "4683  Why are COVID-19 vaccination rates slowing in ...        131          36  \n",
       "5067     Will the vaccine make me sterile or infertile?         86          36  "
      ]
     },
     "execution_count": 21,
     "metadata": {},
     "output_type": "execute_result"
    }
   ],
   "source": [
    "#longest answers\n",
    "expressions_df.sort_values(by='word_count', ascending=False).head(10)"
   ]
  },
  {
   "cell_type": "markdown",
   "metadata": {
    "id": "h2v79HwStMGz"
   },
   "source": [
    "Based on the above, it can be seen that the shortest answers were not quite as relevant as longer ones and did not present as much detail and insight as long answers"
   ]
  },
  {
   "cell_type": "markdown",
   "metadata": {
    "id": "1isvyVBxRPV-"
   },
   "source": [
    "### Collocations\n",
    "\n",
    "Collocations are phrases or expressions containing multiple words that are highly likely to  co-occur.\n",
    "\n",
    "Collocations are important in text analysis because they can provide insights into the meaning and context of a text. \n",
    "\n",
    "Analyzing collocations helps in identifying the key themes and topics dominating my text, as well as the specific language and phrasing that is commonly used in relation to said themes and topics.\n"
   ]
  },
  {
   "cell_type": "code",
   "execution_count": 22,
   "metadata": {
    "colab": {
     "base_uri": "https://localhost:8080/"
    },
    "id": "Ik2pMa81UibF",
    "outputId": "8d464a7c-c34a-4e14-f46e-37d96ded7e44"
   },
   "outputs": [
    {
     "name": "stdout",
     "output_type": "stream",
     "text": [
      "('side', 'effect')\n",
      "('covid', 'vaccine')\n",
      "('get', 'vaccine')\n",
      "('get', 'vaccinated')\n",
      "('vaccine', 'cause')\n",
      "('booster', 'shot')\n",
      "('vaccine', 'safe')\n",
      "('pfizer', 'vaccine')\n",
      "('vaccine', 'work')\n",
      "('get', 'covid')\n"
     ]
    }
   ],
   "source": [
    "#bigrams are a sequence of two adjacent words in a text corpus\n",
    "bigram_measures = nltk.collocations.BigramAssocMeasures()\n",
    "\n",
    "#trigrams are a sequence of three adjacent words in a text corpus\n",
    "trigram_measures = nltk.collocations.TrigramAssocMeasures()\n",
    "\n",
    "finder = BigramCollocationFinder.from_words(filtered_tokens_clean)\n",
    "\n",
    "#Using PMI scores to quantify and rank the BiGrams\n",
    "finder.nbest(bigram_measures.pmi, 50)\n",
    "scoring_metric = BigramAssocMeasures().raw_freq\n",
    "top_bigrams = finder.nbest(scoring_metric, 10)\n",
    "\n",
    "#Print the most frequent bigrams\n",
    "for bigram in top_bigrams:\n",
    "    print(bigram)\n"
   ]
  },
  {
   "cell_type": "markdown",
   "metadata": {
    "id": "sXqL4Rn-IMEQ"
   },
   "source": [
    "From the above bigram collocations, we can see that the main topic of the answers were regarding the side effects of the vaccine and actually getting the vaccine. Booster shots and safety of the vaccines were also quite discussed in the dataset.\n",
    "\n",
    "The fact that the words \"vaccine\" and \"safe\" follow each other a lot can either indicate that people feel safe having the vaccine or that people are questioning the safety of the vaccine, we will double check that in the concordances section below"
   ]
  },
  {
   "cell_type": "markdown",
   "metadata": {
    "id": "Nscor8dSoSsh"
   },
   "source": [
    "### Word associations\n",
    "\n",
    "Word associations are used in text analysis to identify the relationships between words in a text corpus. They help to uncover patterns and connections between words that may not be immediately apparent, and can be used to gain insights into the themes and topics present in the text. \n",
    "\n",
    "Word associations can be used to identify related words and phrases, such as synonyms or antonyms, as well as more complex relationships, such as collocations and semantic relationships."
   ]
  },
  {
   "cell_type": "code",
   "execution_count": 23,
   "metadata": {
    "colab": {
     "base_uri": "https://localhost:8080/"
    },
    "id": "OhlFhMR2n1QZ",
    "outputId": "27cc82cd-37ba-4d4e-dea1-ea90873f4cf2"
   },
   "outputs": [
    {
     "data": {
      "text/plain": [
       "[('side', 'effect'),\n",
       " ('booster', 'shot'),\n",
       " ('get', 'vaccinated'),\n",
       " ('wear', 'mask'),\n",
       " ('johnson', 'johnson'),\n",
       " ('delta', 'variant'),\n",
       " ('vaccine', 'cause'),\n",
       " ('herd', 'immunity'),\n",
       " ('many', 'dos'),\n",
       " ('blood', 'clot'),\n",
       " ('would', 'like'),\n",
       " ('long', 'term'),\n",
       " ('south', 'african'),\n",
       " ('many', 'people'),\n",
       " ('covid', '19'),\n",
       " ('priority', 'group'),\n",
       " ('covid', 'vaccine'),\n",
       " ('lymph', 'node'),\n",
       " ('pfizer', 'vaccine'),\n",
       " ('convalescent', 'plasma')]"
      ]
     },
     "execution_count": 23,
     "metadata": {},
     "output_type": "execute_result"
    }
   ],
   "source": [
    "#Initiate a BigramAssocMeasures() object\n",
    "bigram_measures = BigramAssocMeasures()\n",
    "finder = BigramCollocationFinder.from_words(filtered_tokens_clean)\n",
    "\n",
    "finder.nbest(bigram_measures.likelihood_ratio, 20)"
   ]
  },
  {
   "cell_type": "markdown",
   "metadata": {
    "id": "uymda3lrkXJP"
   },
   "source": [
    "I also used words associated with the word \"vaccine\" since it is the predominent word in the dataset.\n",
    "\n",
    "I have decided to use trigrams to have a deeper look into the answers"
   ]
  },
  {
   "cell_type": "code",
   "execution_count": 24,
   "metadata": {
    "colab": {
     "base_uri": "https://localhost:8080/"
    },
    "id": "vm0iqutlknHu",
    "outputId": "1befe9f6-85f8-4b5d-f530-8880407df333"
   },
   "outputs": [
    {
     "data": {
      "text/plain": [
       "[('side', 'effect', 'vaccine'),\n",
       " ('vaccine', 'side', 'effect'),\n",
       " ('covid', 'vaccine', 'cause'),\n",
       " ('pfizer', 'vaccine', 'cause'),\n",
       " ('johnson', 'johnson', 'vaccine'),\n",
       " ('vaccine', 'cause', 'autism'),\n",
       " ('heard', 'vaccine', 'cause'),\n",
       " ('vaccine', 'cause', 'brain'),\n",
       " ('johnson', 'vaccine', 'cause'),\n",
       " ('vaccine', 'cause', 'harm')]"
      ]
     },
     "execution_count": 24,
     "metadata": {},
     "output_type": "execute_result"
    }
   ],
   "source": [
    "trigram_measures = nltk.collocations.TrigramAssocMeasures()\n",
    "\n",
    "# Ngrams with 'vaccine' as a member\n",
    "vaccine_filter = lambda *w: 'vaccine' not in w\n",
    "\n",
    "finder = TrigramCollocationFinder.from_words(filtered_tokens_clean)\n",
    "\n",
    "# only trigrams that appear 3+ times\n",
    "finder.apply_freq_filter(3)\n",
    "# only trigrams that contain 'vaccine'\n",
    "finder.apply_ngram_filter(vaccine_filter)\n",
    "\n",
    "# return the 10 n-grams with the highest PMI\n",
    "finder.nbest(trigram_measures.likelihood_ratio, 10)\n"
   ]
  },
  {
   "cell_type": "markdown",
   "metadata": {
    "id": "SWeS7h-Q71Bn"
   },
   "source": [
    "These word associations give a very deep understanding of the theme of the answers which are mostly regarding the side effects of the vaccine as well the doses, safety, types of vaccines, whether is causes sickness or not...\n",
    "\n",
    "From these word associations, it can be seen that people are generally not very covinced when it comes to the vaccine\n",
    "\n"
   ]
  },
  {
   "cell_type": "markdown",
   "metadata": {
    "id": "uFIsTUUu5o1m"
   },
   "source": [
    "### Concordances\n",
    "\n",
    "We can further look up the locations at which a given word occurs in the news articles using a concordance analysis.\n"
   ]
  },
  {
   "cell_type": "code",
   "execution_count": 25,
   "metadata": {
    "colab": {
     "base_uri": "https://localhost:8080/"
    },
    "id": "Q39mXqLh6d22",
    "outputId": "a30b8476-dfdd-4e96-fba3-7ad9d9826c64"
   },
   "outputs": [
    {
     "name": "stdout",
     "output_type": "stream",
     "text": [
      "<Text: 0 do booster shots have side effects worsen...>\n",
      "Displaying 10 of 1900 matches:\n",
      "shots have side effects worsen than ... 1 the vaccine has side effects ? 2 booster vaccine leaves w\n",
      ".. 1 the vaccine has side effects ? 2 booster vaccine leaves worse side effects than ... 3 are rein\n",
      "ffects t ... 7 because the second dose of the vaccine causes ... 8 are the side effects of the boos\n",
      " ... 13 what is the risk of getting a booster vaccine ? 14 the reinforcement is softer than the dos\n",
      "fter my second shot ... 16 the booster of the vaccine is worse than the f ... 17 the second dose of\n",
      "orse than the f ... 17 the second dose of the vaccine has worse side ... 18 you should stay ok if y\n",
      "rules to be ... 36 do i really need the covid vaccine or will ... 37 are regular safety measures en\n",
      ", why should i get ... 55 i do not know which vaccine is more recommende ... 56 how many vaccinatio\n",
      "dren t ... 62 what side effects can the covid vaccine bring ... 63 is there a specific vaccine that\n",
      "ovid vaccine bring ... 63 is there a specific vaccine that is safer for ... 64 can some children be\n"
     ]
    }
   ],
   "source": [
    "from nltk.text import Text  \n",
    "textlist = Text(tokenized_words)\n",
    "print(textlist)\n",
    "textlist.concordance(\"vaccine\", width=100, lines=10)"
   ]
  },
  {
   "cell_type": "markdown",
   "metadata": {
    "id": "rRnvM0_WWtP5"
   },
   "source": [
    "From the above concordances, we can see that mostly, the word vaccine has been used in a negative way such as people getting afraid to get sick, causing infertility, vaccine containing fetal cells as well as many others."
   ]
  },
  {
   "cell_type": "markdown",
   "metadata": {
    "id": "_XmdHYjDPnqW"
   },
   "source": [
    "## Trust Dataset\n",
    "\n",
    "Now we are going to explore the Intent Expressions Dataset by looking at all of the word counts, collocations, word associations and concordances\n"
   ]
  },
  {
   "cell_type": "markdown",
   "metadata": {
    "id": "iWU2FGzRP1FN"
   },
   "source": [
    "### Word Count and Frequencies\n",
    "\n",
    "First, I'm going to look at the word count and frquencies in order to try to locate a trend in the data just like we did for the Intent Expressions Dataset using the function **word_count** that we have already defined before"
   ]
  },
  {
   "cell_type": "code",
   "execution_count": 26,
   "metadata": {
    "colab": {
     "base_uri": "https://localhost:8080/"
    },
    "id": "F5A7TNJ7P0tg",
    "outputId": "e7ecf439-9823-40da-a7d2-828749d3518c"
   },
   "outputs": [
    {
     "data": {
      "text/plain": [
       "count    1815.00000\n",
       "mean        7.57686\n",
       "std         4.50389\n",
       "min         1.00000\n",
       "25%         5.00000\n",
       "50%         7.00000\n",
       "75%         9.00000\n",
       "max        42.00000\n",
       "Name: word_count, dtype: float64"
      ]
     },
     "execution_count": 26,
     "metadata": {},
     "output_type": "execute_result"
    }
   ],
   "source": [
    "#Applying the word_count function\n",
    "trust_df['word_count'] = trust_df['text'].apply(word_count)\n",
    "\n",
    "# Descriptive analysis of the word_count data\n",
    "trust_df['word_count'].describe()"
   ]
  },
  {
   "cell_type": "markdown",
   "metadata": {
    "id": "hZI_RFZ8RVGR"
   },
   "source": [
    "The inputs in the trust dataset seem to be shorter than the ones in Intent expressions dataset"
   ]
  },
  {
   "cell_type": "code",
   "execution_count": 27,
   "metadata": {
    "colab": {
     "base_uri": "https://localhost:8080/",
     "height": 282
    },
    "id": "tyRwS6p3RnVl",
    "outputId": "4a89895c-f7a4-40c4-a0a8-cd83102ddfc7"
   },
   "outputs": [
    {
     "data": {
      "text/plain": [
       "<Axes: >"
      ]
     },
     "execution_count": 27,
     "metadata": {},
     "output_type": "execute_result"
    },
    {
     "data": {
      "image/png": "[encoded data removed]",
      "text/plain": [
       "<Figure size 432x288 with 1 Axes>"
      ]
     },
     "metadata": {
      "needs_background": "light"
     },
     "output_type": "display_data"
    }
   ],
   "source": [
    "trust_df['word_count'].hist(bins = 8)"
   ]
  },
  {
   "cell_type": "markdown",
   "metadata": {
    "id": "jYJLWm7lRtD3"
   },
   "source": [
    "The majority of answers seem to have between 1 and 10 words"
   ]
  },
  {
   "cell_type": "code",
   "execution_count": 28,
   "metadata": {
    "colab": {
     "base_uri": "https://localhost:8080/",
     "height": 526
    },
    "id": "xy1Td5BDRfQv",
    "outputId": "d1261d66-5c88-4514-c4f4-3ecc0ae1040b"
   },
   "outputs": [
    {
     "data": {
      "image/png": "[encoded data removed]",
      "text/plain": [
       "<Figure size 720x576 with 1 Axes>"
      ]
     },
     "metadata": {
      "needs_background": "light"
     },
     "output_type": "display_data"
    }
   ],
   "source": [
    "# Setting the size of the figure\n",
    "plt.figure(figsize=(10,8))\n",
    "\n",
    "#Plotting the Box Plot\n",
    "sns.boxplot(x = \"label\", \n",
    "            y = \"word_count\",\n",
    "            data = trust_df,\n",
    "            palette=\"Set3\")\n",
    "\n",
    "# Add a title and axis labels\n",
    "plt.title(\"Distribution of Word Counts by Label\", fontsize=20)\n",
    "plt.xlabel(\"Label\", fontsize=15)\n",
    "plt.ylabel(\"Word Count\", fontsize=15)\n",
    "\n",
    "# Adding grid lines and adjusting the tick font size to accomodate such a big graph\n",
    "plt.grid(axis='y', alpha= 1)\n",
    "plt.xticks(fontsize=12)\n",
    "plt.yticks(fontsize=12)\n",
    "\n",
    "# Show the plot\n",
    "plt.show()\n",
    "\n"
   ]
  },
  {
   "cell_type": "markdown",
   "metadata": {
    "id": "YVrub1HVSedV"
   },
   "source": [
    "From the above graph it can be seen that people with high trust in the vaccine have a bigger word count in their answers compared to people with low trust. The answers that were the shortest came from individuals who are neutral about the vaccine, which is expected since they wouldn't have a lot to say if they are neutral"
   ]
  },
  {
   "cell_type": "code",
   "execution_count": 29,
   "metadata": {
    "colab": {
     "base_uri": "https://localhost:8080/",
     "height": 621
    },
    "id": "SDJORg6jTA1a",
    "outputId": "5502cecc-7057-42b6-d9e6-04bcf6992a6e"
   },
   "outputs": [
    {
     "data": {
      "image/png": "[encoded data removed]",
      "text/plain": [
       "<Figure size 720x720 with 1 Axes>"
      ]
     },
     "metadata": {
      "needs_background": "light"
     },
     "output_type": "display_data"
    }
   ],
   "source": [
    "#Doing a frequency distribution using the inbuilt python function\n",
    "freq_dist = nltk.FreqDist(filtered_tokens_clean_t)\n",
    "\n",
    "# Sorting the frequency distribution by frequency in descending order\n",
    "sorted_freq_dist = sorted(freq_dist.items(), key=lambda x: x[1], reverse=True)\n",
    "\n",
    "# Extract the top 50 words with the highest frequencies\n",
    "top_words = sorted_freq_dist[:50]\n",
    "\n",
    "# Creating a bar graph of the top word frequencies\n",
    "plt.figure(figsize=(10,10))\n",
    "\n",
    "plt.barh(range(len(top_words)), [word[1] for word in reversed(top_words)], align='center')\n",
    "plt.yticks(range(len(top_words)), [word[0] for word in reversed(top_words)])\n",
    "plt.xlabel('Words')\n",
    "plt.ylabel('Frequency')\n",
    "plt.title('Most frequent words in rephrasing COVID-19 vaccine related questions')\n",
    "plt.show()"
   ]
  },
  {
   "cell_type": "markdown",
   "metadata": {
    "id": "CZt8BkXLUYcJ"
   },
   "source": [
    "The word distribution in the Trust Dataset is what you would normally expect from people's responses about vaccines. Some of the top words that people have used in their responses include \"pfizer\", \"moderna\", \"johnson\", which indicates that the brand of the vaccine seems to be influencing their responses.\n",
    "\n",
    "The words \"died\", \"death\" and \"risk\" are ones of the frequently occuring words which indicate some negative feelings. "
   ]
  },
  {
   "cell_type": "markdown",
   "metadata": {
    "id": "h9KAOahcdSqL"
   },
   "source": [
    "### Collocations\n",
    "\n",
    "Same as we did before, we are going to look at collocations for deeper insights on the data"
   ]
  },
  {
   "cell_type": "code",
   "execution_count": 30,
   "metadata": {
    "colab": {
     "base_uri": "https://localhost:8080/"
    },
    "id": "LHLt7omGdVC9",
    "outputId": "9636f757-427a-4de6-92be-ab29464b3bf7"
   },
   "outputs": [
    {
     "name": "stdout",
     "output_type": "stream",
     "text": [
      "('covid', 'vaccine')\n",
      "('get', 'vaccine')\n",
      "('side', 'effect')\n",
      "('many', 'people')\n",
      "('get', 'covid')\n",
      "('vaccine', 'safe')\n",
      "('get', 'vaccinated')\n",
      "('vaccine', 'cause')\n",
      "('people', 'died')\n",
      "('pfizer', 'vaccine')\n"
     ]
    }
   ],
   "source": [
    "#bigrams are a sequence of two adjacent words in a text corpus\n",
    "bigram_measures = nltk.collocations.BigramAssocMeasures()\n",
    "\n",
    "finder = BigramCollocationFinder.from_words(filtered_tokens_clean_t)\n",
    "\n",
    "#Using PMI scores to quantify and rank the BiGrams\n",
    "finder.nbest(bigram_measures.pmi, 50)\n",
    "scoring_metric = BigramAssocMeasures().raw_freq\n",
    "top_bigrams = finder.nbest(scoring_metric, 10)\n",
    "\n",
    "#Print the most frequent bigrams\n",
    "for bigram in top_bigrams:\n",
    "    print(bigram)\n"
   ]
  },
  {
   "cell_type": "markdown",
   "metadata": {
    "id": "KjuRlrQJemi0"
   },
   "source": [
    "From the collocations above, we can see that just like in the Intent Expressions dataset, the words side and effect are from the most seen collocations.\n",
    "\n",
    "The words \"vaccine\" and \"safe\" are seen together which can mean one of two things\n",
    "1. People think getting the vaccine is safe\n",
    "2. People are speculating whether it is safe or not\n",
    "\n",
    "Another interesting thing is \"people\" and \"died\" are two words that appear together. Also leading towards the untrusting side of opinions"
   ]
  },
  {
   "cell_type": "markdown",
   "metadata": {
    "id": "AQ_T0rA6fT21"
   },
   "source": [
    "### Word Associations\n",
    "\n",
    "We will next be looking at word associations"
   ]
  },
  {
   "cell_type": "code",
   "execution_count": 31,
   "metadata": {
    "colab": {
     "base_uri": "https://localhost:8080/"
    },
    "id": "tDuUNz7Yfz98",
    "outputId": "23b3bc38-db20-4fa0-c9e1-b19434e1108e"
   },
   "outputs": [
    {
     "data": {
      "text/plain": [
       "[('side', 'effect'),\n",
       " ('long', 'term'),\n",
       " ('year', 'old'),\n",
       " ('many', 'people'),\n",
       " ('delta', 'variant'),\n",
       " ('people', 'died'),\n",
       " ('spike', 'protein'),\n",
       " ('booster', 'shot'),\n",
       " ('natural', 'immunity'),\n",
       " ('johnson', 'johnson'),\n",
       " ('vaccine', 'vaccine'),\n",
       " ('vaccine', 'cause'),\n",
       " ('fetal', 'cell'),\n",
       " ('pregnant', 'woman'),\n",
       " ('get', 'vaccinated'),\n",
       " ('need', 'booster'),\n",
       " ('covid', '19'),\n",
       " ('adverse', 'reaction'),\n",
       " ('blood', 'clot'),\n",
       " ('gene', 'therapy')]"
      ]
     },
     "execution_count": 31,
     "metadata": {},
     "output_type": "execute_result"
    }
   ],
   "source": [
    "bigram_measures = BigramAssocMeasures()\n",
    "finder = BigramCollocationFinder.from_words(filtered_tokens_clean_t)\n",
    "\n",
    "finder.nbest(bigram_measures.likelihood_ratio, 20)"
   ]
  },
  {
   "cell_type": "markdown",
   "metadata": {
    "id": "6kfLufY9gLHZ"
   },
   "source": [
    "From the above, it can be noticed that word associations are tending towards negative words such as \"fetal\", \"died\", \"blood\" and \"clot\" leading to the assumption that untrusting thoughts are dominating in this dataset"
   ]
  },
  {
   "cell_type": "markdown",
   "metadata": {
    "id": "NsVx60lvgqxd"
   },
   "source": [
    "### Concordances\n",
    "\n",
    "For the concordances I will be using the tokenized words dataframe before doing further data cleaning on it so that the sentences will make sence before removing stopwords and lemmatization"
   ]
  },
  {
   "cell_type": "code",
   "execution_count": 32,
   "metadata": {
    "colab": {
     "base_uri": "https://localhost:8080/"
    },
    "id": "mz5a6dJlg5lQ",
    "outputId": "1ad32fef-84ec-413b-ce86-dcc355ec286b"
   },
   "outputs": [
    {
     "name": "stdout",
     "output_type": "stream",
     "text": [
      "<Text: 0 if symptomatic patient got the vaccine will...>\n",
      "Displaying 7 of 7 matches:\n",
      " getting the pfizer , moder ... 2 why should i trust a pharmaceutical company wh ... 3 what are ant\n",
      "nough about long term effects 157 why should i trust jewish vaccines ? 158 what is the rate of seve\n",
      "not have full approval from t ... 325 i do n't trust the vaccine . they made it too qu ... 326 how \n",
      "any to cal ... 399 vaccines hurt 400 how can i trust the millions that didnt look i ... 401 will th\n",
      "t answer my question . goodbye . 459 how can i trust you ? 460 google and alexa are smarter than yo\n",
      "ion whilst i ... 498 corona symptoms 499 can i trust the gouvernment ? 500 hi ! i 'm concerned that\n",
      "cine sites 1371 wie viele person ? 1372 do you trust dr. person ? 1373 asf 1374 do you know alexa ?\n"
     ]
    }
   ],
   "source": [
    "#I would like to look at how the word \"trust\" is coming in the sentence\n",
    "from nltk.text import Text  \n",
    "textlist = Text(tokenized_words_t)\n",
    "print(textlist)\n",
    "textlist.concordance(\"trust\", width=100, lines=10)"
   ]
  },
  {
   "cell_type": "markdown",
   "metadata": {
    "id": "GnG9NRlgiTzd"
   },
   "source": [
    "The above shows that people are questioning whether or not they should trust the vaccine instead of stating that they do trust it; which is a question that was pending after collocations were done"
   ]
  },
  {
   "cell_type": "code",
   "execution_count": 33,
   "metadata": {
    "colab": {
     "base_uri": "https://localhost:8080/"
    },
    "id": "sMJEu5xuihpU",
    "outputId": "988e96dd-51d9-407b-9341-d5309af91f70"
   },
   "outputs": [
    {
     "name": "stdout",
     "output_type": "stream",
     "text": [
      "<Text: 0 if symptomatic patient got the vaccine will...>\n",
      "no matches\n",
      "Displaying 10 of 35 matches:\n",
      "atient got the vaccine will he ... 1 has anyone died from getting the pfizer , moder ... 2 why shoul\n",
      "y deaths from vaccine 46 yes or no , has anyone died from taking the vac ... 47 can covid vaccines c\n",
      " vaccine contain nano particles ? 51 had anyone died from the vaccines ? 52 why have n't all the vac\n",
      "nes been approved yet ? 53 how many people have died from the vacine ? 54 what side effects 55 have \n",
      "he vacine ? 54 what side effects 55 have people died from the vax ? 56 can the vaccine cause a cytok\n",
      " dizziness ? 96 how many vaccinated people have died due to covid 97 what about side effects 98 why \n",
      " 100 the vaccines are too new 101 i heard a kid died recently from getting the v ... 102 will the va\n",
      "r from heart issue ... 122 how many people have died from the pfizer vacc ... 123 how many people ha\n",
      "eloped too quickly 152 i have heard people have died of the vaccine , ... 153 what makes these vacci\n",
      "zer had multiple s ... 196 how many people have died from the mrna vaccin ... 197 sorry i did n't ge\n"
     ]
    }
   ],
   "source": [
    "#I would like to look at how the word \"died\" is coming in the sentence\n",
    "from nltk.text import Text  \n",
    "textlist = Text(tokenized_words_t)\n",
    "print(textlist)\n",
    "textlist.concordance('dies')\n",
    "textlist.concordance(\"died\", width=100, lines=10)"
   ]
  },
  {
   "cell_type": "markdown",
   "metadata": {
    "id": "dLlmQosbirAj"
   },
   "source": [
    "Dying from the vaccine is another fear that people have according to the above code. A lot of answers have people speculating whether or not the vaccine might cause death"
   ]
  },
  {
   "cell_type": "markdown",
   "metadata": {
    "id": "FPabs4DBjpR8"
   },
   "source": [
    "## Sentiment Analysis\n",
    "\n",
    "In this paragraph, we will perform sentiment analysis which is a text analydid technique that uses Natural Language Processing and Machine Learning algorithms to extract subjective information from my texts such as sentiments or tone and classify it as positive, negative or neutral\n",
    "\n",
    "Sentiment analysis is done to data that is pre processed, meaning I have already removed stop words, stemmed the words and removed punctuations.\n",
    "\n",
    "Once my text has been preprocessed and analyzed, I will start classifying sentiments of the text using the code below.\n",
    "\n",
    "Sentiment analysis has a wide range of applications, including market research, brand management, social media monitoring, and customer feedback analysis. It can help businesses and organizations gain insights into the opinions and attitudes of their customers and stakeholders, and make data-driven decisions based on this information.\n",
    "\n",
    "In this case, sentiment analysis is going to be used for medical researching purposes in order to know how people feel about the vaccine and thus, how likely they are to have it."
   ]
  },
  {
   "cell_type": "markdown",
   "metadata": {
    "id": "4tugsARO0z3-"
   },
   "source": [
    "First, I am going to prepare the data in a different way that I did before which will suite more the sentiment analysis part "
   ]
  },
  {
   "cell_type": "markdown",
   "metadata": {
    "id": "ddjpwf5I1wv1"
   },
   "source": [
    "Cleaning the Expressions dataset"
   ]
  },
  {
   "cell_type": "code",
   "execution_count": 34,
   "metadata": {
    "id": "iFd65r0xuilM"
   },
   "outputs": [],
   "source": [
    "#Preparing the data for sentiment analysis\n",
    "#Lowercase\n",
    "expressions_df['sentence'] = expressions_df['sentence'].astype(str).str.lower()\n",
    "regexp = RegexpTokenizer('\\w+')\n",
    "\n",
    "#Tokenizing\n",
    "expressions_df['sentence_token']=expressions_df['sentence'].apply(regexp.tokenize)\n",
    "expressions_df['sentence_token'] =expressions_df['sentence_token'].apply(lambda x: [item for item in x if item not in stop_words])\n",
    "\n",
    "#Removing strings smaller than 2 letters and saving them in a new column\n",
    "expressions_df['sentence_string'] =expressions_df['sentence_token'].apply(lambda x: ' '.join([item for item in x if len(item)>2]))\n",
    "all_words = ' '.join([word for word in expressions_df['sentence_string']])\n",
    "tokenized_words = nltk.tokenize.word_tokenize(all_words)\n",
    "\n",
    "#Getting the most frequent words\n",
    "fdist = FreqDist(tokenized_words)\n",
    "expressions_df['sentence_string_fdist'] = expressions_df['sentence_token'].apply(lambda x: ' '.join([item for item in x if fdist[item] >= 1 ]))\n",
    "\n",
    "#Lemmatizing\n",
    "wordnet_lem = WordNetLemmatizer()\n",
    "expressions_df['sentence_string_lem'] = expressions_df['sentence_string_fdist'].apply(wordnet_lem.lemmatize)"
   ]
  },
  {
   "cell_type": "markdown",
   "metadata": {
    "id": "hi6dl1fU12XR"
   },
   "source": [
    "Cleaning the Trust Dataset"
   ]
  },
  {
   "cell_type": "code",
   "execution_count": 35,
   "metadata": {
    "id": "OlxJq9la141L"
   },
   "outputs": [],
   "source": [
    "#Preparing the data for sentiment analysis\n",
    "trust_df['text'] = trust_df['text'].astype(str).str.lower()\n",
    "regexp = RegexpTokenizer('\\w+')\n",
    "\n",
    "#Tokenizing\n",
    "trust_df['text_token'] = trust_df['text'].apply(regexp.tokenize)\n",
    "trust_df['text_token'] =trust_df['text_token'].apply(lambda x: [item for item in x if item not in stop_words])\n",
    "\n",
    "#Removing strings smaller than 2 letters and saving them in a new column\n",
    "trust_df['text_string'] =trust_df['text_token'].apply(lambda x: ' '.join([item for item in x if len(item)>2]))\n",
    "all_words = ' '.join([word for word in trust_df['text_string']])\n",
    "tokenized_words = nltk.tokenize.word_tokenize(all_words)\n",
    "\n",
    "#Getting the most frequent words\n",
    "fdist = FreqDist(tokenized_words)\n",
    "trust_df['text_string_fdist'] = trust_df['text_token'].apply(lambda x: ' '.join([item for item in x if fdist[item] >= 1 ]))\n",
    "\n",
    "#Lemmatizing\n",
    "wordnet_lem = WordNetLemmatizer()\n",
    "trust_df['text_string_lem'] = trust_df['text_string_fdist'].apply(wordnet_lem.lemmatize)"
   ]
  },
  {
   "cell_type": "markdown",
   "metadata": {
    "id": "AXLGtS4N1Ts_"
   },
   "source": [
    "After preprocessing the data in a way suitable for sentiment analysis, we start with the process\n",
    "\n"
   ]
  },
  {
   "cell_type": "code",
   "execution_count": 36,
   "metadata": {
    "id": "58eqXyYjnK1T"
   },
   "outputs": [],
   "source": [
    "# Create a SentimentIntensityAnalyzer object\n",
    "analyzer = SentimentIntensityAnalyzer()\n",
    "\n",
    "# Analyzing the sentiments of the sentences in the Intent Expressions Dataset\n",
    "expressions_df['polarity'] = expressions_df['sentence_string_lem'].apply(lambda x: analyzer.polarity_scores(x))\n",
    "expressions_df.tail(3)\n",
    "\n",
    "#Transform Data\n",
    "expressions_df = pd.concat(\n",
    "    [expressions_df.drop(['label_idx', 'word_count', 'polarity'], axis=1), \n",
    "     expressions_df['polarity'].apply(pd.Series)], axis=1)\n"
   ]
  },
  {
   "cell_type": "markdown",
   "metadata": {
    "id": "wNXlpwSh2f_f"
   },
   "source": [
    "Now we start analyzing the trust Data"
   ]
  },
  {
   "cell_type": "code",
   "execution_count": 37,
   "metadata": {
    "id": "dHXgXt0i2jZg"
   },
   "outputs": [],
   "source": [
    "# Analyzing the sentiments of the sentences in the Intent Expressions Dataset\n",
    "trust_df['polarity'] = trust_df['text_string_lem'].apply(lambda x: analyzer.polarity_scores(x))\n",
    "trust_df.head(5)\n",
    "\n",
    "#Transform Data\n",
    "trust_df = pd.concat(\n",
    "    [trust_df.drop(['label', 'word_count', 'polarity'], axis=1), \n",
    "     trust_df['polarity'].apply(pd.Series)], axis=1)"
   ]
  },
  {
   "cell_type": "markdown",
   "metadata": {
    "id": "WuLreitn0ReR"
   },
   "source": [
    "After getting the sentiments, we will divide the sentences to positive, negative and neutral and plot it to better visualize"
   ]
  },
  {
   "cell_type": "code",
   "execution_count": 38,
   "metadata": {
    "colab": {
     "base_uri": "https://localhost:8080/",
     "height": 878
    },
    "id": "_4MtcOoB0a2l",
    "outputId": "2aaa99e4-b0a2-4432-e7ad-8bd4b831f237"
   },
   "outputs": [
    {
     "data": {
      "text/html": [
       "\n",
       "  <div id=\"df-1b982e0c-3930-4e50-a2ef-d71e83da00cf\">\n",
       "    <div class=\"colab-df-container\">\n",
       "      <div>\n",
       "<style scoped>\n",
       "    .dataframe tbody tr th:only-of-type {\n",
       "        vertical-align: middle;\n",
       "    }\n",
       "\n",
       "    .dataframe tbody tr th {\n",
       "        vertical-align: top;\n",
       "    }\n",
       "\n",
       "    .dataframe thead th {\n",
       "        text-align: right;\n",
       "    }\n",
       "</style>\n",
       "<table border=\"1\" class=\"dataframe\">\n",
       "  <thead>\n",
       "    <tr style=\"text-align: right;\">\n",
       "      <th></th>\n",
       "      <th>sentence</th>\n",
       "      <th>label</th>\n",
       "      <th>sentence_token</th>\n",
       "      <th>sentence_string</th>\n",
       "      <th>sentence_string_fdist</th>\n",
       "      <th>sentence_string_lem</th>\n",
       "      <th>neg</th>\n",
       "      <th>neu</th>\n",
       "      <th>pos</th>\n",
       "      <th>compound</th>\n",
       "      <th>sentiment</th>\n",
       "    </tr>\n",
       "  </thead>\n",
       "  <tbody>\n",
       "    <tr>\n",
       "      <th>0</th>\n",
       "      <td>do booster shots have side effects worsen than...</td>\n",
       "      <td>Are booster shot side effects worse than those...</td>\n",
       "      <td>[booster, shots, side, effects, worsen, second...</td>\n",
       "      <td>booster shots side effects worsen second shot</td>\n",
       "      <td>booster shots side effects worsen second shot</td>\n",
       "      <td>booster shots side effects worsen second shot</td>\n",
       "      <td>0.355</td>\n",
       "      <td>0.645</td>\n",
       "      <td>0.000</td>\n",
       "      <td>-0.5106</td>\n",
       "      <td>negative</td>\n",
       "    </tr>\n",
       "    <tr>\n",
       "      <th>1</th>\n",
       "      <td>the vaccine has side effects?</td>\n",
       "      <td>Are booster shot side effects worse than those...</td>\n",
       "      <td>[vaccine, side, effects]</td>\n",
       "      <td>vaccine side effects</td>\n",
       "      <td>vaccine side effects</td>\n",
       "      <td>vaccine side effects</td>\n",
       "      <td>0.000</td>\n",
       "      <td>1.000</td>\n",
       "      <td>0.000</td>\n",
       "      <td>0.0000</td>\n",
       "      <td>neutral</td>\n",
       "    </tr>\n",
       "    <tr>\n",
       "      <th>2</th>\n",
       "      <td>booster vaccine leaves worse side effects than...</td>\n",
       "      <td>Are booster shot side effects worse than those...</td>\n",
       "      <td>[booster, vaccine, leaves, worse, side, effect...</td>\n",
       "      <td>booster vaccine leaves worse side effects firs...</td>\n",
       "      <td>booster vaccine leaves worse side effects firs...</td>\n",
       "      <td>booster vaccine leaves worse side effects firs...</td>\n",
       "      <td>0.279</td>\n",
       "      <td>0.721</td>\n",
       "      <td>0.000</td>\n",
       "      <td>-0.4767</td>\n",
       "      <td>negative</td>\n",
       "    </tr>\n",
       "    <tr>\n",
       "      <th>3</th>\n",
       "      <td>are reinforcements safe?</td>\n",
       "      <td>Are booster shot side effects worse than those...</td>\n",
       "      <td>[reinforcements, safe]</td>\n",
       "      <td>reinforcements safe</td>\n",
       "      <td>reinforcements safe</td>\n",
       "      <td>reinforcements safe</td>\n",
       "      <td>0.000</td>\n",
       "      <td>0.256</td>\n",
       "      <td>0.744</td>\n",
       "      <td>0.4404</td>\n",
       "      <td>positive</td>\n",
       "    </tr>\n",
       "    <tr>\n",
       "      <th>4</th>\n",
       "      <td>because the second dose of the covid-19 vaccin...</td>\n",
       "      <td>Are booster shot side effects worse than those...</td>\n",
       "      <td>[second, dose, covid, 19, vaccine, higher, sid...</td>\n",
       "      <td>second dose covid vaccine higher side effects</td>\n",
       "      <td>second dose covid vaccine higher side effects</td>\n",
       "      <td>second dose covid vaccine higher side effects</td>\n",
       "      <td>0.000</td>\n",
       "      <td>1.000</td>\n",
       "      <td>0.000</td>\n",
       "      <td>0.0000</td>\n",
       "      <td>neutral</td>\n",
       "    </tr>\n",
       "  </tbody>\n",
       "</table>\n",
       "</div>\n",
       "      <button class=\"colab-df-convert\" onclick=\"convertToInteractive('df-1b982e0c-3930-4e50-a2ef-d71e83da00cf')\"\n",
       "              title=\"Convert this dataframe to an interactive table.\"\n",
       "              style=\"display:none;\">\n",
       "        \n",
       "  <svg xmlns=\"http://www.w3.org/2000/svg\" height=\"24px\"viewBox=\"0 0 24 24\"\n",
       "       width=\"24px\">\n",
       "    <path d=\"M0 0h24v24H0V0z\" fill=\"none\"/>\n",
       "    <path d=\"M18.56 5.44l.94 2.06.94-2.06 2.06-.94-2.06-.94-.94-2.06-.94 2.06-2.06.94zm-11 1L8.5 8.5l.94-2.06 2.06-.94-2.06-.94L8.5 2.5l-.94 2.06-2.06.94zm10 10l.94 2.06.94-2.06 2.06-.94-2.06-.94-.94-2.06-.94 2.06-2.06.94z\"/><path d=\"M17.41 7.96l-1.37-1.37c-.4-.4-.92-.59-1.43-.59-.52 0-1.04.2-1.43.59L10.3 9.45l-7.72 7.72c-.78.78-.78 2.05 0 2.83L4 21.41c.39.39.9.59 1.41.59.51 0 1.02-.2 1.41-.59l7.78-7.78 2.81-2.81c.8-.78.8-2.07 0-2.86zM5.41 20L4 18.59l7.72-7.72 1.47 1.35L5.41 20z\"/>\n",
       "  </svg>\n",
       "      </button>\n",
       "      \n",
       "  <style>\n",
       "    .colab-df-container {\n",
       "      display:flex;\n",
       "      flex-wrap:wrap;\n",
       "      gap: 12px;\n",
       "    }\n",
       "\n",
       "    .colab-df-convert {\n",
       "      background-color: #E8F0FE;\n",
       "      border: none;\n",
       "      border-radius: 50%;\n",
       "      cursor: pointer;\n",
       "      display: none;\n",
       "      fill: #1967D2;\n",
       "      height: 32px;\n",
       "      padding: 0 0 0 0;\n",
       "      width: 32px;\n",
       "    }\n",
       "\n",
       "    .colab-df-convert:hover {\n",
       "      background-color: #E2EBFA;\n",
       "      box-shadow: 0px 1px 2px rgba(60, 64, 67, 0.3), 0px 1px 3px 1px rgba(60, 64, 67, 0.15);\n",
       "      fill: #174EA6;\n",
       "    }\n",
       "\n",
       "    [theme=dark] .colab-df-convert {\n",
       "      background-color: #3B4455;\n",
       "      fill: #D2E3FC;\n",
       "    }\n",
       "\n",
       "    [theme=dark] .colab-df-convert:hover {\n",
       "      background-color: #434B5C;\n",
       "      box-shadow: 0px 1px 3px 1px rgba(0, 0, 0, 0.15);\n",
       "      filter: drop-shadow(0px 1px 2px rgba(0, 0, 0, 0.3));\n",
       "      fill: #FFFFFF;\n",
       "    }\n",
       "  </style>\n",
       "\n",
       "      <script>\n",
       "        const buttonEl =\n",
       "          document.querySelector('#df-1b982e0c-3930-4e50-a2ef-d71e83da00cf button.colab-df-convert');\n",
       "        buttonEl.style.display =\n",
       "          google.colab.kernel.accessAllowed ? 'block' : 'none';\n",
       "\n",
       "        async function convertToInteractive(key) {\n",
       "          const element = document.querySelector('#df-1b982e0c-3930-4e50-a2ef-d71e83da00cf');\n",
       "          const dataTable =\n",
       "            await google.colab.kernel.invokeFunction('convertToInteractive',\n",
       "                                                     [key], {});\n",
       "          if (!dataTable) return;\n",
       "\n",
       "          const docLinkHtml = 'Like what you see? Visit the ' +\n",
       "            '<a target=\"_blank\" href=https://colab.research.google.com/notebooks/data_table.ipynb>data table notebook</a>'\n",
       "            + ' to learn more about interactive tables.';\n",
       "          element.innerHTML = '';\n",
       "          dataTable['output_type'] = 'display_data';\n",
       "          await google.colab.output.renderOutput(dataTable, element);\n",
       "          const docLink = document.createElement('div');\n",
       "          docLink.innerHTML = docLinkHtml;\n",
       "          element.appendChild(docLink);\n",
       "        }\n",
       "      </script>\n",
       "    </div>\n",
       "  </div>\n",
       "  "
      ],
      "text/plain": [
       "                                            sentence  \\\n",
       "0  do booster shots have side effects worsen than...   \n",
       "1                      the vaccine has side effects?   \n",
       "2  booster vaccine leaves worse side effects than...   \n",
       "3                           are reinforcements safe?   \n",
       "4  because the second dose of the covid-19 vaccin...   \n",
       "\n",
       "                                               label  \\\n",
       "0  Are booster shot side effects worse than those...   \n",
       "1  Are booster shot side effects worse than those...   \n",
       "2  Are booster shot side effects worse than those...   \n",
       "3  Are booster shot side effects worse than those...   \n",
       "4  Are booster shot side effects worse than those...   \n",
       "\n",
       "                                      sentence_token  \\\n",
       "0  [booster, shots, side, effects, worsen, second...   \n",
       "1                           [vaccine, side, effects]   \n",
       "2  [booster, vaccine, leaves, worse, side, effect...   \n",
       "3                             [reinforcements, safe]   \n",
       "4  [second, dose, covid, 19, vaccine, higher, sid...   \n",
       "\n",
       "                                     sentence_string  \\\n",
       "0      booster shots side effects worsen second shot   \n",
       "1                               vaccine side effects   \n",
       "2  booster vaccine leaves worse side effects firs...   \n",
       "3                                reinforcements safe   \n",
       "4      second dose covid vaccine higher side effects   \n",
       "\n",
       "                               sentence_string_fdist  \\\n",
       "0      booster shots side effects worsen second shot   \n",
       "1                               vaccine side effects   \n",
       "2  booster vaccine leaves worse side effects firs...   \n",
       "3                                reinforcements safe   \n",
       "4      second dose covid vaccine higher side effects   \n",
       "\n",
       "                                 sentence_string_lem    neg    neu    pos  \\\n",
       "0      booster shots side effects worsen second shot  0.355  0.645  0.000   \n",
       "1                               vaccine side effects  0.000  1.000  0.000   \n",
       "2  booster vaccine leaves worse side effects firs...  0.279  0.721  0.000   \n",
       "3                                reinforcements safe  0.000  0.256  0.744   \n",
       "4      second dose covid vaccine higher side effects  0.000  1.000  0.000   \n",
       "\n",
       "   compound sentiment  \n",
       "0   -0.5106  negative  \n",
       "1    0.0000   neutral  \n",
       "2   -0.4767  negative  \n",
       "3    0.4404  positive  \n",
       "4    0.0000   neutral  "
      ]
     },
     "execution_count": 38,
     "metadata": {},
     "output_type": "execute_result"
    }
   ],
   "source": [
    "# Create new variable with sentiment \"neutral,\" \"positive\" and \"negative\" for intent expressions dataset\n",
    "expressions_df['sentiment'] = expressions_df['compound'].apply(lambda x: 'positive' if x >0 else 'neutral' if x==0 else 'negative')\n",
    "expressions_df.head(5)\n"
   ]
  },
  {
   "cell_type": "markdown",
   "metadata": {
    "id": "JOni1_zqFcr6"
   },
   "source": [
    "It is very important to get a look at the raw data to actually see how good the sentiment analysis model worked. \n",
    "\n",
    "Looking at the above data, in the first sentence, the person was stating that the booster vaccine has worse side effects than the first one, however, after tokenizeing, lemmatizing and removing stop words, it ended up being categorized as a neutral sentence instead of negative, hence making me a little skeptical about the process."
   ]
  },
  {
   "cell_type": "code",
   "execution_count": 39,
   "metadata": {
    "colab": {
     "base_uri": "https://localhost:8080/",
     "height": 511
    },
    "id": "2-PTljJt3kyA",
    "outputId": "e3501ceb-3c2d-4c95-fb21-8a2f86fe1f72"
   },
   "outputs": [
    {
     "data": {
      "text/html": [
       "\n",
       "  <div id=\"df-c36d554c-2ca0-464e-bdc9-cc5c37a9803a\">\n",
       "    <div class=\"colab-df-container\">\n",
       "      <div>\n",
       "<style scoped>\n",
       "    .dataframe tbody tr th:only-of-type {\n",
       "        vertical-align: middle;\n",
       "    }\n",
       "\n",
       "    .dataframe tbody tr th {\n",
       "        vertical-align: top;\n",
       "    }\n",
       "\n",
       "    .dataframe thead th {\n",
       "        text-align: right;\n",
       "    }\n",
       "</style>\n",
       "<table border=\"1\" class=\"dataframe\">\n",
       "  <thead>\n",
       "    <tr style=\"text-align: right;\">\n",
       "      <th></th>\n",
       "      <th>text</th>\n",
       "      <th>text_token</th>\n",
       "      <th>text_string</th>\n",
       "      <th>text_string_fdist</th>\n",
       "      <th>text_string_lem</th>\n",
       "      <th>neg</th>\n",
       "      <th>neu</th>\n",
       "      <th>pos</th>\n",
       "      <th>compound</th>\n",
       "      <th>sentiment</th>\n",
       "    </tr>\n",
       "  </thead>\n",
       "  <tbody>\n",
       "    <tr>\n",
       "      <th>0</th>\n",
       "      <td>if symptomatic patient got the vaccine will he...</td>\n",
       "      <td>[symptomatic, patient, got, vaccine, dies]</td>\n",
       "      <td>symptomatic patient got vaccine dies</td>\n",
       "      <td>symptomatic patient got vaccine dies</td>\n",
       "      <td>symptomatic patient got vaccine dies</td>\n",
       "      <td>0.00</td>\n",
       "      <td>1.000</td>\n",
       "      <td>0.000</td>\n",
       "      <td>0.0000</td>\n",
       "      <td>neutral</td>\n",
       "    </tr>\n",
       "    <tr>\n",
       "      <th>1</th>\n",
       "      <td>has anyone died from getting the pfizer, moder...</td>\n",
       "      <td>[anyone, died, getting, pfizer, moderna, johns...</td>\n",
       "      <td>anyone died getting pfizer moderna johnson joh...</td>\n",
       "      <td>anyone died getting pfizer moderna johnson joh...</td>\n",
       "      <td>anyone died getting pfizer moderna johnson joh...</td>\n",
       "      <td>0.34</td>\n",
       "      <td>0.660</td>\n",
       "      <td>0.000</td>\n",
       "      <td>-0.5574</td>\n",
       "      <td>negative</td>\n",
       "    </tr>\n",
       "    <tr>\n",
       "      <th>2</th>\n",
       "      <td>why should i trust a pharmaceutical company wh...</td>\n",
       "      <td>[trust, pharmaceutical, company, manipulate, d...</td>\n",
       "      <td>trust pharmaceutical company manipulate data</td>\n",
       "      <td>trust pharmaceutical company manipulate data</td>\n",
       "      <td>trust pharmaceutical company manipulate data</td>\n",
       "      <td>0.00</td>\n",
       "      <td>0.548</td>\n",
       "      <td>0.452</td>\n",
       "      <td>0.5106</td>\n",
       "      <td>positive</td>\n",
       "    </tr>\n",
       "    <tr>\n",
       "      <th>3</th>\n",
       "      <td>what are antisense rna's?  could they or dsrna...</td>\n",
       "      <td>[antisense, rna, could, dsrna, contaminating, ...</td>\n",
       "      <td>antisense rna could dsrna contaminating covid ...</td>\n",
       "      <td>antisense rna could dsrna contaminating covid ...</td>\n",
       "      <td>antisense rna could dsrna contaminating covid ...</td>\n",
       "      <td>0.22</td>\n",
       "      <td>0.780</td>\n",
       "      <td>0.000</td>\n",
       "      <td>-0.4767</td>\n",
       "      <td>negative</td>\n",
       "    </tr>\n",
       "    <tr>\n",
       "      <th>4</th>\n",
       "      <td>the vaccines aren't fda approved.</td>\n",
       "      <td>[vaccines, fda, approved]</td>\n",
       "      <td>vaccines fda approved</td>\n",
       "      <td>vaccines fda approved</td>\n",
       "      <td>vaccines fda approved</td>\n",
       "      <td>0.00</td>\n",
       "      <td>0.417</td>\n",
       "      <td>0.583</td>\n",
       "      <td>0.4215</td>\n",
       "      <td>positive</td>\n",
       "    </tr>\n",
       "  </tbody>\n",
       "</table>\n",
       "</div>\n",
       "      <button class=\"colab-df-convert\" onclick=\"convertToInteractive('df-c36d554c-2ca0-464e-bdc9-cc5c37a9803a')\"\n",
       "              title=\"Convert this dataframe to an interactive table.\"\n",
       "              style=\"display:none;\">\n",
       "        \n",
       "  <svg xmlns=\"http://www.w3.org/2000/svg\" height=\"24px\"viewBox=\"0 0 24 24\"\n",
       "       width=\"24px\">\n",
       "    <path d=\"M0 0h24v24H0V0z\" fill=\"none\"/>\n",
       "    <path d=\"M18.56 5.44l.94 2.06.94-2.06 2.06-.94-2.06-.94-.94-2.06-.94 2.06-2.06.94zm-11 1L8.5 8.5l.94-2.06 2.06-.94-2.06-.94L8.5 2.5l-.94 2.06-2.06.94zm10 10l.94 2.06.94-2.06 2.06-.94-2.06-.94-.94-2.06-.94 2.06-2.06.94z\"/><path d=\"M17.41 7.96l-1.37-1.37c-.4-.4-.92-.59-1.43-.59-.52 0-1.04.2-1.43.59L10.3 9.45l-7.72 7.72c-.78.78-.78 2.05 0 2.83L4 21.41c.39.39.9.59 1.41.59.51 0 1.02-.2 1.41-.59l7.78-7.78 2.81-2.81c.8-.78.8-2.07 0-2.86zM5.41 20L4 18.59l7.72-7.72 1.47 1.35L5.41 20z\"/>\n",
       "  </svg>\n",
       "      </button>\n",
       "      \n",
       "  <style>\n",
       "    .colab-df-container {\n",
       "      display:flex;\n",
       "      flex-wrap:wrap;\n",
       "      gap: 12px;\n",
       "    }\n",
       "\n",
       "    .colab-df-convert {\n",
       "      background-color: #E8F0FE;\n",
       "      border: none;\n",
       "      border-radius: 50%;\n",
       "      cursor: pointer;\n",
       "      display: none;\n",
       "      fill: #1967D2;\n",
       "      height: 32px;\n",
       "      padding: 0 0 0 0;\n",
       "      width: 32px;\n",
       "    }\n",
       "\n",
       "    .colab-df-convert:hover {\n",
       "      background-color: #E2EBFA;\n",
       "      box-shadow: 0px 1px 2px rgba(60, 64, 67, 0.3), 0px 1px 3px 1px rgba(60, 64, 67, 0.15);\n",
       "      fill: #174EA6;\n",
       "    }\n",
       "\n",
       "    [theme=dark] .colab-df-convert {\n",
       "      background-color: #3B4455;\n",
       "      fill: #D2E3FC;\n",
       "    }\n",
       "\n",
       "    [theme=dark] .colab-df-convert:hover {\n",
       "      background-color: #434B5C;\n",
       "      box-shadow: 0px 1px 3px 1px rgba(0, 0, 0, 0.15);\n",
       "      filter: drop-shadow(0px 1px 2px rgba(0, 0, 0, 0.3));\n",
       "      fill: #FFFFFF;\n",
       "    }\n",
       "  </style>\n",
       "\n",
       "      <script>\n",
       "        const buttonEl =\n",
       "          document.querySelector('#df-c36d554c-2ca0-464e-bdc9-cc5c37a9803a button.colab-df-convert');\n",
       "        buttonEl.style.display =\n",
       "          google.colab.kernel.accessAllowed ? 'block' : 'none';\n",
       "\n",
       "        async function convertToInteractive(key) {\n",
       "          const element = document.querySelector('#df-c36d554c-2ca0-464e-bdc9-cc5c37a9803a');\n",
       "          const dataTable =\n",
       "            await google.colab.kernel.invokeFunction('convertToInteractive',\n",
       "                                                     [key], {});\n",
       "          if (!dataTable) return;\n",
       "\n",
       "          const docLinkHtml = 'Like what you see? Visit the ' +\n",
       "            '<a target=\"_blank\" href=https://colab.research.google.com/notebooks/data_table.ipynb>data table notebook</a>'\n",
       "            + ' to learn more about interactive tables.';\n",
       "          element.innerHTML = '';\n",
       "          dataTable['output_type'] = 'display_data';\n",
       "          await google.colab.output.renderOutput(dataTable, element);\n",
       "          const docLink = document.createElement('div');\n",
       "          docLink.innerHTML = docLinkHtml;\n",
       "          element.appendChild(docLink);\n",
       "        }\n",
       "      </script>\n",
       "    </div>\n",
       "  </div>\n",
       "  "
      ],
      "text/plain": [
       "                                                text  \\\n",
       "0  if symptomatic patient got the vaccine will he...   \n",
       "1  has anyone died from getting the pfizer, moder...   \n",
       "2  why should i trust a pharmaceutical company wh...   \n",
       "3  what are antisense rna's?  could they or dsrna...   \n",
       "4                  the vaccines aren't fda approved.   \n",
       "\n",
       "                                          text_token  \\\n",
       "0         [symptomatic, patient, got, vaccine, dies]   \n",
       "1  [anyone, died, getting, pfizer, moderna, johns...   \n",
       "2  [trust, pharmaceutical, company, manipulate, d...   \n",
       "3  [antisense, rna, could, dsrna, contaminating, ...   \n",
       "4                          [vaccines, fda, approved]   \n",
       "\n",
       "                                         text_string  \\\n",
       "0               symptomatic patient got vaccine dies   \n",
       "1  anyone died getting pfizer moderna johnson joh...   \n",
       "2       trust pharmaceutical company manipulate data   \n",
       "3  antisense rna could dsrna contaminating covid ...   \n",
       "4                              vaccines fda approved   \n",
       "\n",
       "                                   text_string_fdist  \\\n",
       "0               symptomatic patient got vaccine dies   \n",
       "1  anyone died getting pfizer moderna johnson joh...   \n",
       "2       trust pharmaceutical company manipulate data   \n",
       "3  antisense rna could dsrna contaminating covid ...   \n",
       "4                              vaccines fda approved   \n",
       "\n",
       "                                     text_string_lem   neg    neu    pos  \\\n",
       "0               symptomatic patient got vaccine dies  0.00  1.000  0.000   \n",
       "1  anyone died getting pfizer moderna johnson joh...  0.34  0.660  0.000   \n",
       "2       trust pharmaceutical company manipulate data  0.00  0.548  0.452   \n",
       "3  antisense rna could dsrna contaminating covid ...  0.22  0.780  0.000   \n",
       "4                              vaccines fda approved  0.00  0.417  0.583   \n",
       "\n",
       "   compound sentiment  \n",
       "0    0.0000   neutral  \n",
       "1   -0.5574  negative  \n",
       "2    0.5106  positive  \n",
       "3   -0.4767  negative  \n",
       "4    0.4215  positive  "
      ]
     },
     "execution_count": 39,
     "metadata": {},
     "output_type": "execute_result"
    }
   ],
   "source": [
    "# Create new variable with sentiment \"neutral,\" \"positive\" and \"negative\" for trust dataset\n",
    "trust_df['sentiment'] = trust_df['compound'].apply(lambda x: 'positive' if x >0 else 'neutral' if x==0 else 'negative')\n",
    "trust_df.head(5)"
   ]
  },
  {
   "cell_type": "markdown",
   "metadata": {
    "id": "BZG22ZqEGpqS"
   },
   "source": [
    "I would comment the same thing about the second sentiment analysis, a good example is the 4th row where the statement is \"the vaccines aren't fda approved\" making the statement negative, however, after preprocessing it ended up being categorized as positive"
   ]
  },
  {
   "cell_type": "code",
   "execution_count": 40,
   "metadata": {
    "colab": {
     "base_uri": "https://localhost:8080/",
     "height": 279
    },
    "id": "u1CcMP20zs8N",
    "outputId": "b42c7f89-72d3-446e-c1c0-0e17212e84b1"
   },
   "outputs": [
    {
     "data": {
      "image/png": "[encoded data removed]",
      "text/plain": [
       "<Figure size 432x288 with 1 Axes>"
      ]
     },
     "metadata": {
      "needs_background": "light"
     },
     "output_type": "display_data"
    }
   ],
   "source": [
    "#Plotting the sentiment of Intent Expressions\n",
    "sns.countplot(y='sentiment', \n",
    "             data=expressions_df, \n",
    "             );"
   ]
  },
  {
   "cell_type": "code",
   "execution_count": 41,
   "metadata": {
    "colab": {
     "base_uri": "https://localhost:8080/",
     "height": 279
    },
    "id": "KHuOtZd43soS",
    "outputId": "57b5f91c-f502-4a72-9689-f81fd07bf45a"
   },
   "outputs": [
    {
     "data": {
      "image/png": "[encoded data removed]",
      "text/plain": [
       "<Figure size 432x288 with 1 Axes>"
      ]
     },
     "metadata": {
      "needs_background": "light"
     },
     "output_type": "display_data"
    }
   ],
   "source": [
    "#Plotting the sentiment of trust Expressions\n",
    "sns.countplot(y='sentiment', \n",
    "             data=trust_df,\n",
    "             order = ['negative' , 'neutral' , 'positive'] \n",
    "             );"
   ]
  },
  {
   "cell_type": "markdown",
   "metadata": {
    "id": "gh9vp2I24487"
   },
   "source": [
    "The graph above shows that most people feel neutral about the vaccine followed by people with positive feelings towards it and the least amount of sentences have a negative feel.\n",
    "\n",
    "To compare this data with the data from the original trust dataset, it looks contradicting as the other data shows that the least people have a high trust in the vaccine"
   ]
  },
  {
   "cell_type": "code",
   "execution_count": 42,
   "metadata": {
    "colab": {
     "base_uri": "https://localhost:8080/",
     "height": 280
    },
    "id": "DEXgY6z11a7-",
    "outputId": "9171d153-d3a1-4f2a-bbad-7c535cc1441c"
   },
   "outputs": [
    {
     "data": {
      "image/png": "[encoded data removed]",
      "text/plain": [
       "<Figure size 432x288 with 1 Axes>"
      ]
     },
     "metadata": {
      "needs_background": "light"
     },
     "output_type": "display_data"
    }
   ],
   "source": [
    "#Box Plot of Intent Analysis\n",
    "sns.boxplot(y='compound', \n",
    "            x='sentiment',\n",
    "            data=expressions_df);\n"
   ]
  },
  {
   "cell_type": "code",
   "execution_count": 43,
   "metadata": {
    "colab": {
     "base_uri": "https://localhost:8080/",
     "height": 280
    },
    "id": "MlTxdZS65Gck",
    "outputId": "a2821c95-76b9-470e-8b72-f5028d3db3bc"
   },
   "outputs": [
    {
     "data": {
      "image/png": "[encoded data removed]",
      "text/plain": [
       "<Figure size 432x288 with 1 Axes>"
      ]
     },
     "metadata": {
      "needs_background": "light"
     },
     "output_type": "display_data"
    }
   ],
   "source": [
    "#Box Plot of Trust Analysis\n",
    "sns.boxplot(y='compound', \n",
    "            x='sentiment',\n",
    "            data=trust_df,\n",
    "            order = ['negative', 'neutral', 'positive']);\n"
   ]
  },
  {
   "cell_type": "markdown",
   "metadata": {
    "id": "WwrThNK9wDpG"
   },
   "source": [
    "The above boxplots indicate that most negative words had a compound of -0.5 to about -0.3 whereas some of the positive compounds went all the way to 1"
   ]
  },
  {
   "cell_type": "markdown",
   "metadata": {
    "id": "96SxafCrwJSb"
   },
   "source": [
    "## Implications and Conclusion\n",
    "\n",
    "All troughout this study, the data shows that people mostly feel neutral about the vaccine which can either mean that they lack education about the benefits and side effects of the vaccine or that they are okay with it but are just not too static about it.\n",
    "\n",
    "From the start of the study until before the sentiment analysis phase, a consistent pattern emerged, indicating that people were likely to either be neutral or distrust the vaccines. This was evident in the language used, with words like \"worried,\" \"dangerous,\" and \"sick,\" among others, frequently appearing and conveying negative emotions associated with vaccines.\n",
    "\n",
    "Upon examining the concordances of the word \"trust\" in the trust dataset, it became clear that people were expressing doubts about their confidence in the vaccine. Additionally, the word associations and collocations revealed that words such as \"side\" and \"effect,\" as well as \"blood\" and \"clot,\" \"adverse\" and \"reaction,\" were commonly used together, indicating that people were apprehensive about the potential side effects of the vaccine which suggest that individuals are expressing concerns about the safety of vaccines and the potential risks associated with receiving them.\n",
    "\n",
    "These findings suggest that there is a significant level of skepticism and uncertainty regarding the safety and effectiveness of vaccines among the general public which matches the hypothesis suggested.\n",
    "\n",
    "However, when examining the Sentiment Analysis outputs, another theory came about suggesting that individuals tend more towards being trusting of the vaccine, but, looking into the data, it is clear that after lemmatizing and removing stopwords, the words \"aren't\", \"don't\", \"haven't\" and many others were removed, rendering a lot of negative sentence either neutral or positive.\n",
    "\n",
    "In my opnion, a lot of people are skeptical about the vaccine, hence why less and less people are doing the 3rd and 4th vaccine."
   ]
  },
  {
   "cell_type": "markdown",
   "metadata": {
    "id": "8AuR5x0uH-Q8"
   },
   "source": [
    "# References\n",
    "\n"
   ]
  },
  {
   "cell_type": "markdown",
   "metadata": {
    "id": "uhUcaAe9ICpE"
   },
   "source": [
    " A Trust-Annotated Corpus of Human-Chatbot Conversations About COVID-19 Vaccines\n",
    "Roni Friedman, João Sedoc, Shai Gretz, Assaf Toledo, Rose Weeks, Naor Bar-Zeev, Yoav Katz, Noam Slonim\n",
    "arXiv, 2022\n",
    "\n",
    "-\n",
    " \n",
    " ANLP Session 2 Tutorial - Part 1, https://tinyurl.com/ANLPTutorial2Part1\n",
    "\n",
    "\n",
    "\n",
    "-\n",
    "\n",
    "Benchmark Data and Evaluation Framework for Intent Discovery Around COVID-19 Vaccine Hesitancy\n",
    "Shai Gretz, Assaf Toledo, Roni Friedman, Dan Lahav, Rose Weeks, Naor Bar-Zeev, João Sedoc, Pooja Sangha, Yoav Katz, Noam Slonim arXiv, 2022\n",
    "\n",
    "-\n",
    "\n",
    "Centers for Disease Control and Prevention. (n.d.). Myths and facts about covid-19 vaccines. Centers for Disease Control and Prevention. Retrieved from https://www.cdc.gov/coronavirus/2019-ncov/vaccines/facts.html \n",
    "\n",
    "-\n",
    "\n",
    "Chat GPT, Chat.openai.com. (n.d). Retrieved March 28, 2023, from https://chat.openai.com/auth/login?next= \n",
    "\n",
    "-\n",
    "\n",
    "Kirenz, J. K. (2022, June 16). Text mining and sentiment \n",
    "analysis with NLTK and pandas in Python. Jan Kirenz. Retrieved March 28, 2023, from https://www.kirenz.com/post/2021-12-11-text-mining-and-sentiment-analysis-with-nltk-and-pandas-in-python/text-mining-and-sentiment-analysis-with-nltk-and-pandas-in-python/ \n",
    "\n"
   ]
  }
 ],
 "metadata": {
  "colab": {
   "provenance": [],
   "toc_visible": true
  },
  "kernelspec": {
   "display_name": "Python 3 (ipykernel)",
   "language": "python",
   "name": "python3"
  },
  "language_info": {
   "codemirror_mode": {
    "name": "ipython",
    "version": 3
   },
   "file_extension": ".py",
   "mimetype": "text/x-python",
   "name": "python",
   "nbconvert_exporter": "python",
   "pygments_lexer": "ipython3",
   "version": "3.9.13"
  }
 },
 "nbformat": 4,
 "nbformat_minor": 1
}
